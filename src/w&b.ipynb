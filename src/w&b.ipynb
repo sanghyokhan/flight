{
 "cells": [
  {
   "cell_type": "code",
   "execution_count": 1,
   "id": "b4fdbb13",
   "metadata": {
    "ExecuteTime": {
     "end_time": "2021-08-26T07:27:44.292899Z",
     "start_time": "2021-08-26T07:27:43.381570Z"
    }
   },
   "outputs": [],
   "source": [
    "import requests\n",
    "import pandas as pd\n",
    "import re\n",
    "from datetime import datetime, timedelta\n",
    "from os import system\n",
    "from selenium import webdriver\n",
    "from selenium.webdriver.common.keys import Keys"
   ]
  },
  {
   "cell_type": "code",
   "execution_count": 2,
   "id": "cce3ba4a",
   "metadata": {
    "ExecuteTime": {
     "end_time": "2021-08-26T07:27:44.854622Z",
     "start_time": "2021-08-26T07:27:44.839614Z"
    }
   },
   "outputs": [],
   "source": [
    "# load data\n",
    "total_cs = pd.read_csv('../input/weight_and_balance.csv')"
   ]
  },
  {
   "cell_type": "code",
   "execution_count": 3,
   "id": "4283e7e1",
   "metadata": {
    "ExecuteTime": {
     "end_time": "2021-08-26T07:27:50.539973Z",
     "start_time": "2021-08-26T07:27:45.336933Z"
    }
   },
   "outputs": [
    {
     "name": "stdout",
     "output_type": "stream",
     "text": [
      "< Weight & Balance > \n",
      "\n",
      "\n",
      "ENTER for default setting\n",
      "* Default airport : KSFB\n",
      "* Default time : Current Time \n",
      "\n",
      "- Departing Airport [ICAO] : \n",
      "\u001b[1A\u001b[K\n",
      "- Departing Airport [ICAO] : KSFB\n",
      "- Time(Z) [YYYYMMDD HHMM] : \n",
      "\u001b[1A\u001b[K\n",
      "- Time(Z) [YYYYMMDD HHMM] : 2021-08-26 07:27:47.416688Z\n",
      "- Aircraft N number : 678lh\n",
      "\u001b[1A\u001b[K\n",
      "- Aircraft N number : 678LH\n",
      "\n",
      "\n",
      "\n",
      "\n"
     ]
    }
   ],
   "source": [
    "\"\"\" input \"\"\"\n",
    "system('cls')\n",
    "print('< Weight & Balance > \\n\\n')\n",
    "print('ENTER for default setting')\n",
    "print('* Default airport : KSFB')\n",
    "print('* Default time : Current Time \\n')\n",
    "\n",
    "# airport id\n",
    "arpt = input('- Departing Airport [ICAO] : ').lower()\n",
    "print ('\\033[1A' + '\\033[K')\n",
    "while True :\n",
    "    if len(arpt) == 0:\n",
    "        arpt = 'KSFB'\n",
    "        print('- Departing Airport [ICAO] : KSFB')\n",
    "        break\n",
    "    elif len(arpt) != 4:\n",
    "        print('\\nERROR : Enter ICAO aiport codes with 4 letters\\n')\n",
    "        arpt = input('- Departing Airport [ICAO] : ').lower()\n",
    "        print ('\\033[1A' + '\\033[K')\n",
    "    else:\n",
    "        print(f'- Departing Airport [ICAO] : {arpt}')\n",
    "        break\n",
    "\n",
    "# time\n",
    "time = input('- Time(Z) [YYYYMMDD HHMM] : ')\n",
    "print ('\\033[1A' + '\\033[K')\n",
    "if len(time) == 0:\n",
    "    time = datetime.utcnow()\n",
    "    print(f'- Time(Z) [YYYYMMDD HHMM] : {time}Z')\n",
    "else:\n",
    "    time = datetime.strptime(time, '%Y%m%d %H%M')\n",
    "    print(f'- Time(Z) [YYYYMMDD HHMM] : {time}Z')\n",
    "\n",
    "# aircraft callsign\n",
    "cs = input('- Aircraft N number : ').upper()\n",
    "cs_df = total_cs[total_cs['N'] == cs]\n",
    "print ('\\033[1A' + '\\033[K')\n",
    "while True:\n",
    "    if len(cs_df) == 0:\n",
    "        print('\\nERROR : Invalid N number')\n",
    "        cs = input('- Aircraft N number : ').upper()\n",
    "        cs_df = total_cs[total_cs['N'] == cs]\n",
    "        print ('\\033[1A' + '\\033[K')\n",
    "    else:\n",
    "        print(f'- Aircraft N number : {cs}')\n",
    "        break\n",
    "print('\\n\\n\\n')\n",
    "\n"
   ]
  },
  {
   "cell_type": "code",
   "execution_count": 4,
   "id": "35aeec0b",
   "metadata": {
    "ExecuteTime": {
     "end_time": "2021-08-26T07:27:53.841607Z",
     "start_time": "2021-08-26T07:27:53.834564Z"
    }
   },
   "outputs": [],
   "source": [
    "time = '20210831 2200'\n",
    "time = datetime.strptime(time, '%Y%m%d %H%M')"
   ]
  },
  {
   "cell_type": "code",
   "execution_count": 5,
   "id": "a1b741e3",
   "metadata": {
    "ExecuteTime": {
     "end_time": "2021-08-26T07:27:54.793263Z",
     "start_time": "2021-08-26T07:27:54.776687Z"
    }
   },
   "outputs": [
    {
     "name": "stdout",
     "output_type": "stream",
     "text": [
      "2021-08-31 22:00:00\n",
      "2021-08-26 07:27:54.777710\n"
     ]
    }
   ],
   "source": [
    "time_delta = (time - datetime.utcnow())\n",
    "print(time)\n",
    "print(datetime.utcnow())"
   ]
  },
  {
   "cell_type": "code",
   "execution_count": 6,
   "id": "4694e0f0",
   "metadata": {
    "ExecuteTime": {
     "end_time": "2021-08-26T07:27:55.461493Z",
     "start_time": "2021-08-26T07:27:55.440973Z"
    }
   },
   "outputs": [
    {
     "data": {
      "text/plain": [
       "14.534722222222221"
      ]
     },
     "execution_count": 6,
     "metadata": {},
     "output_type": "execute_result"
    }
   ],
   "source": [
    "time_delta.seconds/3600"
   ]
  },
  {
   "cell_type": "code",
   "execution_count": null,
   "id": "20cb7516",
   "metadata": {},
   "outputs": [],
   "source": []
  },
  {
   "cell_type": "code",
   "execution_count": 7,
   "id": "d025f45e",
   "metadata": {
    "ExecuteTime": {
     "end_time": "2021-08-26T07:28:03.838978Z",
     "start_time": "2021-08-26T07:27:58.485969Z"
    }
   },
   "outputs": [],
   "source": [
    "url = f'https://www.aviationweather.gov/metar/data?ids={arpt}&format=raw&hours=0&taf=on&layout=on'\n",
    "driver = webdriver.Chrome()\n",
    "driver.get(url)\n",
    "\n",
    "metar = driver.find_element_by_xpath(f\"//*[@id='awc_main_content_wrap']/code[1]\")\n",
    "metar = str(metar.text)\n",
    "taf = driver.find_element_by_xpath(f\"//*[@id='awc_main_content_wrap']/code[2]\")\n",
    "taf = str(taf.text)\n",
    "driver.quit()"
   ]
  },
  {
   "cell_type": "code",
   "execution_count": 8,
   "id": "a5025c6e",
   "metadata": {
    "ExecuteTime": {
     "end_time": "2021-08-26T07:28:03.950224Z",
     "start_time": "2021-08-26T07:28:03.936184Z"
    }
   },
   "outputs": [
    {
     "data": {
      "text/plain": [
       "'KSFB 260552Z 2606/2706 11010KT 6SM -RA VCTS SCT020CB BKN030 BKN100\\n  TEMPO 2606/2607 09012G26KT 2SM +TSRA BKN025CB\\n  FM260800 05005KT P6SM VCSH SCT040 SCT090 BKN120\\n  FM261300 07009KT P6SM VCSH SCT030 BKN080 BKN250\\n  FM261900 08010KT P6SM SCT040 BKN120 BKN200\\n  FM270200 07006KT P6SM SCT025 SCT250'"
      ]
     },
     "execution_count": 8,
     "metadata": {},
     "output_type": "execute_result"
    }
   ],
   "source": [
    "taf"
   ]
  },
  {
   "cell_type": "code",
   "execution_count": 9,
   "id": "a8126c97",
   "metadata": {
    "ExecuteTime": {
     "end_time": "2021-08-26T07:28:04.057773Z",
     "start_time": "2021-08-26T07:28:04.045226Z"
    }
   },
   "outputs": [
    {
     "data": {
      "text/plain": [
       "'KSFB 260705Z AUTO 31004KT 10SM -RA FEW120 23/21 A3003 RMK AO2 LTG DSNT N AND NE P0000 T02280211'"
      ]
     },
     "execution_count": 9,
     "metadata": {},
     "output_type": "execute_result"
    }
   ],
   "source": [
    "metar"
   ]
  },
  {
   "cell_type": "code",
   "execution_count": 10,
   "id": "3f7c4c09",
   "metadata": {
    "ExecuteTime": {
     "end_time": "2021-08-26T07:28:06.084853Z",
     "start_time": "2021-08-26T07:28:06.070197Z"
    }
   },
   "outputs": [],
   "source": [
    "pattern_issue = '[0-9].....Z'\n",
    "pattern_date = '[0-9]+/[0-9]{2,4}|[0-9][0-9][0-9][0-9][0-9][0-9]\\s'\n",
    "pattern_wind = '\\s[0-9]...[0-9][A-Z]'              # limited below 100kt\n",
    "pattern_temp = '[0-9][0-9]/[0-9][0-9]|M[0-9][0-9]/[0-9][0-9]|[0-9][0-9]/M[0-9][0-9]|M[0-9][0-9]/M[0-9][0-9]'\n",
    "pattern_pres = 'A[0-9][0-9][0-9][0-9]'\n",
    "pattern_vis = '\\s[0-9][0-9]SM\\s'               \n",
    "pattern_cavok = '\\sC[A-Z][A-Z][A-Z][A-Z]\\s'\n",
    "pattern_wc = 'NSW|TS|DZ|RA|SN|SG|IC|PL|GR|GS|BR|FG|FU|VA|DU|SA|HZ|SQ|FC|SS|DS'\n",
    "pattern_cloud = '[FSBO][A-Z][A-Z]..[0-9]'\n",
    "pattern_chg = 'BECMG|TEMPO|FM'\n",
    "regex = re.compile(pattern_date)\n",
    "search = regex.search(metar)"
   ]
  },
  {
   "cell_type": "code",
   "execution_count": 11,
   "id": "b9b0273e",
   "metadata": {
    "ExecuteTime": {
     "end_time": "2021-08-26T07:28:06.368950Z",
     "start_time": "2021-08-26T07:28:06.350719Z"
    }
   },
   "outputs": [],
   "source": [
    "# issue time\n",
    "issue = metar[re.search(pattern_issue, metar).start() : re.search(pattern_issue, metar).start()+6]\n",
    "if datetime.utcnow().day > int(issue[:2]):\n",
    "    yyyymm = datetime.utcnow().strftime('%Y') + (datetime.utcnow() + timedelta(days = 1)).strftime('%m')    # 달 넘어가는 것\n",
    "else: \n",
    "    yyyymm = datetime.utcnow().strftime('%Y') + datetime.utcnow().strftime('%m')\n",
    "issue_time = datetime.strptime(yyyymm + issue, '%Y%m%d%H%M')"
   ]
  },
  {
   "cell_type": "code",
   "execution_count": 12,
   "id": "ce8e00c2",
   "metadata": {
    "ExecuteTime": {
     "end_time": "2021-08-26T07:28:06.821221Z",
     "start_time": "2021-08-26T07:28:06.815181Z"
    }
   },
   "outputs": [],
   "source": [
    "# wind\n",
    "wind_dir = int(metar[re.search(pattern_wind, metar).start()+1 : re.search(pattern_wind, metar).start()+4])\n",
    "wind_vel = int(metar[re.search(pattern_wind, metar).start()+4 : re.search(pattern_wind, metar).start()+6])\n",
    "\n",
    "if metar[re.search(pattern_wind, metar).start()+6] == 'G':\n",
    "    gust = metar[re.search(pattern_wind, metar).start()+6 : re.search(pattern_wind, metar).start()+9]\n",
    "else:\n",
    "    gust = 0"
   ]
  },
  {
   "cell_type": "code",
   "execution_count": 13,
   "id": "3a93a0d9",
   "metadata": {
    "ExecuteTime": {
     "end_time": "2021-08-26T07:28:07.521337Z",
     "start_time": "2021-08-26T07:28:07.512305Z"
    }
   },
   "outputs": [],
   "source": [
    "# temp, due\n",
    "if metar[re.search(pattern_temp, metar).start()] == 'M':\n",
    "    temp = int(metar[re.search(pattern_temp, metar).start()+1 : re.search(pattern_temp, metar).start()+3]) * (-1)\n",
    "else:\n",
    "    temp = int(metar[re.search(pattern_temp, metar).start() : re.search(pattern_temp, metar).start()+2])\n",
    "    \n",
    "if metar[re.search(pattern_temp, metar).end()-3] == 'M':\n",
    "    due = int(metar[re.search(pattern_temp, metar).end()-2 : re.search(pattern_temp, metar).end()]) * (-1)\n",
    "else:\n",
    "    due = int(metar[re.search(pattern_temp, metar).end()-2 : re.search(pattern_temp, metar).end()])"
   ]
  },
  {
   "cell_type": "code",
   "execution_count": 14,
   "id": "c33c242e",
   "metadata": {
    "ExecuteTime": {
     "end_time": "2021-08-26T07:28:08.410274Z",
     "start_time": "2021-08-26T07:28:08.395558Z"
    }
   },
   "outputs": [],
   "source": [
    "# pressure\n",
    "pres = int(metar[re.search(pattern_pres, metar).start()+1 : re.search(pattern_pres, metar).start()+5])/100"
   ]
  },
  {
   "cell_type": "code",
   "execution_count": 25,
   "id": "2d7c546d",
   "metadata": {
    "ExecuteTime": {
     "end_time": "2021-08-26T07:37:49.220883Z",
     "start_time": "2021-08-26T07:37:49.213884Z"
    },
    "scrolled": true
   },
   "outputs": [],
   "source": [
    "# rwy\n",
    "rwy_df = pd.read_csv('../input/rwy_info.csv')\n",
    "fe = rwy_df[rwy_df['arpt'] == arpt]['fe'][0] * 0.3048    # field elevation(ft) into meters\n"
   ]
  },
  {
   "cell_type": "code",
   "execution_count": 22,
   "id": "2bd6d8c2",
   "metadata": {
    "ExecuteTime": {
     "end_time": "2021-08-26T07:29:06.403822Z",
     "start_time": "2021-08-26T07:29:06.382280Z"
    }
   },
   "outputs": [
    {
     "data": {
      "text/html": [
       "<div>\n",
       "<style scoped>\n",
       "    .dataframe tbody tr th:only-of-type {\n",
       "        vertical-align: middle;\n",
       "    }\n",
       "\n",
       "    .dataframe tbody tr th {\n",
       "        vertical-align: top;\n",
       "    }\n",
       "\n",
       "    .dataframe thead th {\n",
       "        text-align: right;\n",
       "    }\n",
       "</style>\n",
       "<table border=\"1\" class=\"dataframe\">\n",
       "  <thead>\n",
       "    <tr style=\"text-align: right;\">\n",
       "      <th></th>\n",
       "      <th>arpt</th>\n",
       "      <th>fe</th>\n",
       "      <th>rwy_heading</th>\n",
       "      <th>rwy_length</th>\n",
       "    </tr>\n",
       "  </thead>\n",
       "  <tbody>\n",
       "    <tr>\n",
       "      <th>0</th>\n",
       "      <td>KSFB</td>\n",
       "      <td>55.0</td>\n",
       "      <td>NaN</td>\n",
       "      <td>NaN</td>\n",
       "    </tr>\n",
       "  </tbody>\n",
       "</table>\n",
       "</div>"
      ],
      "text/plain": [
       "   arpt    fe  rwy_heading  rwy_length\n",
       "0  KSFB  55.0          NaN         NaN"
      ]
     },
     "execution_count": 22,
     "metadata": {},
     "output_type": "execute_result"
    }
   ],
   "source": [
    "rwy_df[rwy_df['arpt'] == arpt]"
   ]
  },
  {
   "cell_type": "code",
   "execution_count": null,
   "id": "b0206f2c",
   "metadata": {},
   "outputs": [],
   "source": []
  },
  {
   "cell_type": "code",
   "execution_count": null,
   "id": "8d96423c",
   "metadata": {},
   "outputs": [],
   "source": []
  },
  {
   "cell_type": "code",
   "execution_count": null,
   "id": "2e19a2bd",
   "metadata": {},
   "outputs": [],
   "source": []
  },
  {
   "cell_type": "code",
   "execution_count": 26,
   "id": "cb638ddb",
   "metadata": {
    "ExecuteTime": {
     "end_time": "2021-08-26T07:37:51.624656Z",
     "start_time": "2021-08-26T07:37:51.608703Z"
    }
   },
   "outputs": [],
   "source": [
    "\n",
    "# pa, da\n",
    "\n",
    "# station pressure (https://www.weather.gov/media/epz/wxcalc/stationPressure.pdf)\n",
    "station_pressure_inHg = pres * (((288 - (0.0065 * fe))/288)**(5.2561))\n",
    "station_pressure_mil = station_pressure_inHg * 33.8639\n",
    "\n",
    "# pressure altitude(https://www.weather.gov/media/epz/wxcalc/pressureAltitude.pdf)\n",
    "pa = (1 - (station_pressure_mil/1013.25)**(0.190284)) * 145366.45\n",
    "\n",
    "# density altitude (https://www.weather.gov/media/epz/wxcalc/densityAltitude.pdf)\n",
    "vapor_pressure = 6.11 * (10 **((7.5 * due) / (237.7 + due)))\n",
    "tv_kelvin = (temp + 273.15) / (1 - ((vapor_pressure / station_pressure_mil) * (1 - 0.622)))  # Kelvin\n",
    "tv_rankine = (tv_kelvin * 9 / 5)\n",
    "da = 145366 * ( 1 - ((17.326 * station_pressure_mil * 0.029530 / tv_rankine )**(0.235)))"
   ]
  },
  {
   "cell_type": "code",
   "execution_count": null,
   "id": "095474d0",
   "metadata": {},
   "outputs": [],
   "source": [
    "issue_time = issue_time\n",
    "wind_dir = wind_dir\n",
    "wind_vel = wind_vel\n",
    "gust = gust\n",
    "\n",
    "h_wind = \n",
    "cross_wind = \n",
    "\n",
    "vis = \n",
    "cig = \n",
    "temp = \n",
    "due = \n",
    "alt = \n",
    "active_rwy = \n",
    "pressure_alt = pa\n",
    "density_alt = da\n",
    "rwy_len"
   ]
  },
  {
   "cell_type": "code",
   "execution_count": 34,
   "id": "8134bc62",
   "metadata": {
    "ExecuteTime": {
     "end_time": "2021-08-26T07:39:37.649112Z",
     "start_time": "2021-08-26T07:39:37.632069Z"
    }
   },
   "outputs": [],
   "source": [
    "wx = pd.DataFrame({'issue' : issue_time,\n",
    "                    'wind_direction' : wind_dir,\n",
    "                    'wind_velocity' : wind_vel,\n",
    "                    'gust' : gust,\n",
    "                    'temperature' : temp,\n",
    "                    'due_point' : due,\n",
    "                    'altimeter' : pres,\n",
    "                    'pressure_altitude' : pa,\n",
    "                    'density_altitude' : da,\n",
    "                    }, index = [0])"
   ]
  },
  {
   "cell_type": "markdown",
   "id": "66292132",
   "metadata": {},
   "source": [
    "***\n",
    "***\n",
    "***\n",
    "***\n",
    "***\n",
    "***"
   ]
  },
  {
   "cell_type": "markdown",
   "id": "0a6e6adf",
   "metadata": {},
   "source": [
    "KSFB 250547Z 2506/2606 11004KT P6SM FEW050 SCT110 BKN250<br>\n",
    "FM251400 13007KT P6SM SCT025 SCT150 BKN250 <br>\n",
    "FM251600 13009KT P6SM VCSH SCT035 SCT060 BKN300<br>\n",
    "FM252100 09010KT P6SM FEW050 SCT120 SCT300<br>\n",
    "FM260100 07006KT P6SM FEW040 SCT090 BKN120"
   ]
  },
  {
   "cell_type": "code",
   "execution_count": null,
   "id": "75aacfae",
   "metadata": {
    "ExecuteTime": {
     "end_time": "2021-08-25T13:25:40.907613Z",
     "start_time": "2021-08-25T13:25:40.899119Z"
    }
   },
   "outputs": [],
   "source": [
    "# 1. Pattern\n",
    "pattern_issue = '[0-9].....Z'\n",
    "pattern_date = '[0-9]+/[0-9]{2,4}|[0-9][0-9][0-9][0-9][0-9][0-9]\\s'\n",
    "pattern_taf = 'TX........Z|TX.......Z'             # BECMG, TEMPO 전 text 찾는데 사용\n",
    "pattern_wind = '\\s[0-9]...[0-9][A-Z]'              # 단, 100KT이상은 잡을 수 X        \n",
    "pattern_vis = '\\s[0-9]..[0-9]\\s'               \n",
    "pattern_cavok = '\\sC[A-Z][A-Z][A-Z][A-Z]\\s'\n",
    "pattern_wc = 'NSW|TS|DZ|RA|SN|SG|IC|PL|GR|GS|BR|FG|FU|VA|DU|SA|HZ|SQ|FC|SS|DS'\n",
    "pattern_cloud = '[FSBO][A-Z][A-Z]..[0-9]'\n",
    "pattern_chg = 'BECMG|TEMPO|FM'\n",
    "regex = re.compile(pattern_date)\n",
    "search = regex.search(taf)"
   ]
  },
  {
   "cell_type": "code",
   "execution_count": null,
   "id": "eba009bc",
   "metadata": {
    "ExecuteTime": {
     "end_time": "2021-08-25T13:26:12.793636Z",
     "start_time": "2021-08-25T13:26:12.778639Z"
    }
   },
   "outputs": [],
   "source": [
    "start = taf[re.search(pattern_date, taf).start() : re.search(pattern_date, taf).start()+4]\n",
    "end = taf[re.search(pattern_date, taf).start()+5 : re.search(pattern_date, taf).start()+9]\n",
    "yymm = time.strftime('%Y') + time.strftime('%m')\n",
    "start_time = datetime.strptime(yymm + start, '%Y%m%d%H')\n",
    "end_time = datetime.strptime(yymm + end, '%Y%m%d%H')"
   ]
  },
  {
   "cell_type": "code",
   "execution_count": null,
   "id": "3e9e9a72",
   "metadata": {
    "ExecuteTime": {
     "end_time": "2021-08-25T13:26:13.358538Z",
     "start_time": "2021-08-25T13:26:13.345531Z"
    }
   },
   "outputs": [],
   "source": [
    "if time.day > start_time.day:\n",
    "    yymm = time.strftime('%Y') + (time + timedelta(days = 1)).strftime('%m')\n",
    "else:\n",
    "    yymm = time.strftime('%Y') + time.strftime('%m')\n",
    "\n",
    "start_time = datetime.strptime(yymm + start, '%Y%m%d%H')\n",
    "end_time = datetime.strptime(yymm + end, '%Y%m%d%H')"
   ]
  },
  {
   "cell_type": "code",
   "execution_count": null,
   "id": "aeb67048",
   "metadata": {
    "ExecuteTime": {
     "end_time": "2021-08-25T13:26:14.671505Z",
     "start_time": "2021-08-25T13:26:14.657482Z"
    }
   },
   "outputs": [],
   "source": [
    "Time = pd.date_range(start = start_time, end = end_time, freq = 'H')\n",
    "TAF = pd.DataFrame([], index = Time)\n",
    "column = ['WDIR', 'WSPD', 'WG', 'VIS', 'WC', 'CLA_1LYR', 'BASE_1LYR', 'CLA_2LYR', 'BASE_2LYR', 'CLA_3LYR', 'BASE_3LYR']"
   ]
  },
  {
   "cell_type": "code",
   "execution_count": null,
   "id": "5d755084",
   "metadata": {
    "ExecuteTime": {
     "end_time": "2021-08-25T13:26:15.344109Z",
     "start_time": "2021-08-25T13:26:15.337118Z"
    }
   },
   "outputs": [],
   "source": [
    "chg_iter = re.finditer(pattern_chg, taf)                \n",
    "chg = list(chg_iter)"
   ]
  },
  {
   "cell_type": "code",
   "execution_count": null,
   "id": "829dc4f5",
   "metadata": {
    "ExecuteTime": {
     "end_time": "2021-08-25T13:26:18.717378Z",
     "start_time": "2021-08-25T13:26:18.685406Z"
    }
   },
   "outputs": [],
   "source": [
    "# 4. 첫번쨰 맨 앞 예보 꺼내고 삭제하기\n",
    "\n",
    "# BECMG, TEMPO 앞만 남기고 자르기\n",
    "if len(chg) != 0:\n",
    "    taff = taf[:chg[-len(chg)].end()-6]              \n",
    "\n",
    "# 시작시간, 종료시간\n",
    "start = taff[re.search(pattern_date, taff).start() : re.search(pattern_date, taff).start()+4]\n",
    "end = taff[re.search(pattern_date, taff).start()+5 : re.search(pattern_date, taff).start()+9]\n",
    "start_time = datetime.strptime(yymm + start ,'%Y%m%d%H')\n",
    "if (yymm+end)[-2:] == '24':\n",
    "    end_time = pd.to_datetime((yymm+end)[:-2], format = '%Y%m%d') + pd.Timedelta(days=1)\n",
    "    end_time = end_time.to_pydatetime()\n",
    "else:\n",
    "    end_time = datetime.strptime(yymm + end ,'%Y%m%d%H')\n",
    "\n",
    "\n",
    "# 바람\n",
    "wind_f = re.search(pattern_wind, taff)\n",
    "if wind_f != None:\n",
    "    if wind_f.group()[-1] == 'K':\n",
    "        wind = taff[re.search(pattern_wind, taff).start()+1 : re.search(pattern_wind, taff).start()+8]\n",
    "        WDIR = wind[0:3]\n",
    "        WSPD = wind[3:5]\n",
    "        WG = '0'\n",
    "    else:\n",
    "        wind = taff[re.search(pattern_wind, taff).start()+1 : re.search(pattern_wind, taff).start()+11]\n",
    "        WDIR = wind[0:3]\n",
    "        WSPD = wind[3:5]\n",
    "        WG = wind[6:8]\n",
    "else:\n",
    "    WDIR = '0'\n",
    "    WSPD = '0'\n",
    "    WG = '0'\n",
    "\n",
    "# 시정   \n",
    "if len(re.findall(pattern_cavok, taff)) == 0:\n",
    "    vis = re.search(pattern_vis, taff)\n",
    "    if vis != None:\n",
    "        VIS = taf[re.search(pattern_vis, taff).start()+1 : re.search(pattern_vis, taff).start()+5]\n",
    "    else:\n",
    "        VIS = None\n",
    "else:\n",
    "    vis = re.search(pattern_cavok, taff)\n",
    "    VIS = '9999'    \n",
    "\n",
    "# 현천\n",
    "wc = re.search(pattern_wc, taff)\n",
    "if wc != None:\n",
    "    if wc.group() == 'NSW':\n",
    "        WC = '0'\n",
    "    else:\n",
    "        WC = wc.group()\n",
    "else:\n",
    "    WC = '0'\n",
    "\n",
    "# 구름\n",
    "#taf_find = re.finditer(pattern_taf, taff)        \n",
    "#taf_data = taff[:list(taf_find)[-1].start()]\n",
    "cloud = re.finditer(pattern_cloud, taff) \n",
    "tcloud = list(cloud)\n",
    "if len(tcloud) == 3:\n",
    "    CLA_1LYR = taff[tcloud[0].start() : tcloud[0].start()+3]\n",
    "    BASE_1LYR = taff[tcloud[0].start()+3 : tcloud[0].start()+6]\n",
    "    CLA_2LYR = taff[tcloud[1].start() : tcloud[1].start()+3]\n",
    "    BASE_2LYR = taff[tcloud[1].start()+3 : tcloud[1].start()+6]\n",
    "    CLA_3LYR = taff[tcloud[2].start() : tcloud[2].start()+3]\n",
    "    BASE_3LYR = taff[tcloud[2].start()+3 : tcloud[2].start()+6]\n",
    "elif len(tcloud) == 2:\n",
    "    CLA_1LYR = taff[tcloud[0].start() : tcloud[0].start()+3]\n",
    "    BASE_1LYR = taff[tcloud[0].start()+3 : tcloud[0].start()+6]\n",
    "    CLA_2LYR = taff[tcloud[1].start() : tcloud[1].start()+3]\n",
    "    BASE_2LYR = taff[tcloud[1].start()+3 : tcloud[1].start()+6]\n",
    "    CLA_3LYR = '0'\n",
    "    BASE_3LYR = '400'\n",
    "elif len(tcloud) == 1:\n",
    "    CLA_1LYR = taff[tcloud[0].start() : tcloud[0].start()+3]\n",
    "    BASE_1LYR = taff[tcloud[0].start()+3 : tcloud[0].start()+6]\n",
    "    CLA_2LYR = '0'\n",
    "    BASE_2LYR = '400'\n",
    "    CLA_3LYR = '0'\n",
    "    BASE_3LYR = '400'\n",
    "elif len(tcloud) == 0:\n",
    "    CLA_1LYR = '0'\n",
    "    BASE_1LYR = '400'\n",
    "    CLA_2LYR = '0'\n",
    "    BASE_2LYR = '400'\n",
    "    CLA_3LYR = '0'\n",
    "    BASE_3LYR = '400'\n",
    "else: \n",
    "    CLA_1LYR = taff[tcloud[0].start() : tcloud[0].start()+3]\n",
    "    BASE_1LYR = taff[tcloud[0].start()+3 : tcloud[0].start()+6]\n",
    "    CLA_2LYR = taff[tcloud[1].start() : tcloud[1].start()+3]\n",
    "    BASE_2LYR = taff[tcloud[1].start()+3 : tcloud[1].start()+6]\n",
    "    CLA_3LYR = taff[tcloud[2].start() : tcloud[2].start()+3]\n",
    "    BASE_3LYR = taff[tcloud[2].start()+3 : tcloud[2].start()+6]\n",
    "\n",
    "weather = [WDIR, WSPD, WG, VIS, WC, CLA_1LYR, BASE_1LYR, CLA_2LYR, BASE_2LYR, CLA_3LYR, BASE_3LYR]\n",
    "\n",
    "taff = taf"
   ]
  },
  {
   "cell_type": "code",
   "execution_count": null,
   "id": "57d9e5de",
   "metadata": {
    "ExecuteTime": {
     "end_time": "2021-08-25T13:26:26.873991Z",
     "start_time": "2021-08-25T13:26:26.854971Z"
    }
   },
   "outputs": [],
   "source": [
    "# 5. TAF 안에 넣기\n",
    "\n",
    "temp_time= pd.date_range(start = start_time, end = end_time, freq = 'H')\n",
    "Weather = [weather]\n",
    "\n",
    "for i in range(len(temp_time)-1):\n",
    "    Weather.append(weather)\n",
    "\n",
    "Wx = pd.DataFrame(Weather, index = temp_time, columns = column)\n",
    "TAF = TAF.combine_first(Wx)\n",
    "\n",
    "# 5* issue date 붙이기\n",
    "#issue_date = pd.DataFrame({'issue_time': [str(start_time)]*len(TAF)}, index = TAF.index)\n",
    "#TAF = issue_date.join(TAF)"
   ]
  },
  {
   "cell_type": "code",
   "execution_count": null,
   "id": "50070872",
   "metadata": {
    "ExecuteTime": {
     "end_time": "2021-08-25T13:23:31.790672Z",
     "start_time": "2021-08-25T13:23:31.711633Z"
    }
   },
   "outputs": [],
   "source": [
    "# 6. BECMG, TEMPO 부분 뒤에서 부터 데이터 꺼내오기\n",
    "\n",
    "iter = len(chg)\n",
    "\n",
    "weathers = list(np.zeros(len(chg)))\n",
    "durs = list(np.zeros(len(chg)))\n",
    "\n",
    "for i in range(1, iter+1):\n",
    "\n",
    "    if len(chg) == 0:\n",
    "        temp = ''\n",
    "        continue  \n",
    "\n",
    "    # 마지막 BECMG, TEMPO 뒤만 남기고 자르기\n",
    "    temp = taff[chg[-1].end()-6:]\n",
    "\n",
    "    # 시작시간, 종료시간\n",
    "    temp_start = temp[re.search(pattern_date, temp).start() : re.search(pattern_date, temp).start()+4]   \n",
    "    temp_end = temp[re.search(pattern_date, temp).start()+5 : re.search(pattern_date, temp).start()+9]\n",
    "    temp_start_time = datetime.strptime(yymm + temp_start ,'%Y%m%d%H') + timedelta(hours = 9)     \n",
    "    if (yymm+temp_end)[-2:] == '24':\n",
    "        temp_end_time = pd.to_datetime((yymm+temp_end)[:-2], format = '%Y%m%d') + pd.Timedelta(days=1) + pd.Timedelta(hours=9)\n",
    "        temp_end_time = temp_end_time.to_pydatetime()\n",
    "    else:\n",
    "        temp_end_time = datetime.strptime(yymm + temp_end ,'%Y%m%d%H') + timedelta(hours = 9)         \n",
    "\n",
    "    if temp_end_time > temp_start_time:\n",
    "        temp_end_time = temp_end_time\n",
    "    else: \n",
    "        temp_end_time = temp_end_time + relativedelta(months=1)\n",
    "        temp_start_time = temp_start_time\n",
    "\n",
    "    if nextyear =='1231':\n",
    "        temp_start_time = temp_start_time + relativedelta(months=1)\n",
    "        temp_end_time = temp_end_time + relativedelta(months=1)\n",
    "    else:\n",
    "        temp_start_time = temp_start_time\n",
    "        temp_end_time = temp_end_time\n",
    "\n",
    "    # 바람    \n",
    "    temp_wind_f = re.search(pattern_wind, temp)\n",
    "    if temp_wind_f != None:\n",
    "        if temp_wind_f.group()[-1] == 'K':\n",
    "            temp_wind = temp[re.search(pattern_wind, temp).start()+1 : re.search(pattern_wind, temp).start()+8]\n",
    "            WDIR = temp_wind[0:3]\n",
    "            WSPD = temp_wind[3:5]\n",
    "            WG = '0'\n",
    "        else:\n",
    "            temp_wind = temp[re.search(pattern_wind, temp).start()+1 : re.search(pattern_wind, temp).start()+11]\n",
    "            WDIR = temp_wind[0:3]\n",
    "            WSPD = temp_wind[3:5]\n",
    "            WG = temp_wind[6:8]\n",
    "    else:\n",
    "        WDIR = None\n",
    "        WSPD = None\n",
    "        WG = None                \n",
    "    # 현천\n",
    "    temp_wc = re.search(pattern_wc, temp)\n",
    "    if temp_wc != None:\n",
    "        if temp_wc.group() == 'NSW':\n",
    "            WC = '0'\n",
    "        else:\n",
    "            WC = temp_wc.group()\n",
    "    else:\n",
    "        WC = '0'\n",
    "    # 구름    \n",
    "    temp_cloud = re.finditer(pattern_cloud, temp) \n",
    "    temp_tcloud = list(temp_cloud)\n",
    "    if len(temp_tcloud) == 3:\n",
    "        CLA_1LYR = temp[temp_tcloud[0].start() : temp_tcloud[0].start()+3]\n",
    "        BASE_1LYR = temp[temp_tcloud[0].start()+3 : temp_tcloud[0].start()+6]\n",
    "        CLA_2LYR = temp[temp_tcloud[1].start() : temp_tcloud[1].start()+3]\n",
    "        BASE_2LYR = temp[temp_tcloud[1].start()+3 : temp_tcloud[1].start()+6]\n",
    "        CLA_3LYR = temp[temp_tcloud[2].start() : temp_tcloud[2].start()+3]\n",
    "        BASE_3LYR = temp[temp_tcloud[2].start()+3 : temp_tcloud[2].start()+6]\n",
    "    elif len(temp_tcloud) == 2:\n",
    "        CLA_1LYR = temp[temp_tcloud[0].start() : temp_tcloud[0].start()+3]\n",
    "        BASE_1LYR = temp[temp_tcloud[0].start()+3 : temp_tcloud[0].start()+6]\n",
    "        CLA_2LYR = temp[temp_tcloud[1].start() : temp_tcloud[1].start()+3]\n",
    "        BASE_2LYR = temp[temp_tcloud[1].start()+3 : temp_tcloud[1].start()+6]\n",
    "        CLA_3LYR = '0'\n",
    "        BASE_3LYR = '400'\n",
    "    elif len(temp_tcloud) == 1:\n",
    "        CLA_1LYR = temp[temp_tcloud[0].start() : temp_tcloud[0].start()+3]\n",
    "        BASE_1LYR = temp[temp_tcloud[0].start()+3 : temp_tcloud[0].start()+6]\n",
    "        CLA_2LYR = '0'\n",
    "        BASE_2LYR = '400'\n",
    "        CLA_3LYR = '0'\n",
    "        BASE_3LYR = '400'\n",
    "    else: \n",
    "        CLA_1LYR = None\n",
    "        BASE_1LYR = None\n",
    "        CLA_2LYR = None\n",
    "        BASE_2LYR = None\n",
    "        CLA_3LYR = None\n",
    "        BASE_3LYR = None\n",
    "    # 시정  \n",
    "    if len(re.findall(pattern_cavok, temp)) == 0:\n",
    "        temp_vis = re.search(pattern_vis, temp)\n",
    "        if temp_vis != None:\n",
    "            VIS = temp[re.search(pattern_vis, temp).start()+1 : re.search(pattern_vis, temp).start()+5]\n",
    "        else:\n",
    "            VIS = None\n",
    "    else:\n",
    "        temp_vis = re.search(pattern_cavok, temp)\n",
    "        VIS = '9999'\n",
    "        CLA_1LYR = '0'\n",
    "        BASE_1LYR = '0'\n",
    "        CLA_2LYR = '0'\n",
    "        BASE_2LYR = '0'\n",
    "        CLA_3LYR = '0'\n",
    "        BASE_3LYR = '0'\n",
    "\n",
    "\n",
    "    weather = [WDIR, WSPD, WG, VIS, WC, CLA_1LYR, BASE_1LYR, CLA_2LYR, BASE_2LYR, CLA_3LYR, BASE_3LYR]\n",
    "    dur = [chg[-1].group(), temp_start_time, temp_end_time]\n",
    "\n",
    "    taff = taf[:chg[-1].end()-6]\n",
    "    chg_iter = re.finditer(pattern_chg, taff)                # BECMG, TEMPO 들어간거 찾기\n",
    "    chg = list(chg_iter)\n",
    "\n",
    "    weathers[-i] = weather\n",
    "    durs[-i] = dur"
   ]
  },
  {
   "cell_type": "code",
   "execution_count": null,
   "id": "c416a9d0",
   "metadata": {
    "ExecuteTime": {
     "end_time": "2021-08-25T13:23:31.790672Z",
     "start_time": "2021-08-25T13:23:31.711633Z"
    }
   },
   "outputs": [],
   "source": [
    "# 7. 각각의 weather를 맞는 시간대의 TAF에 넣기\n",
    "WW = TAF\n",
    "\n",
    "for j in range(len(durs)):  \n",
    "    if durs[j][0] == 'BECMG':\n",
    "        durs[j][2] = end_time\n",
    "        temp_time = pd.date_range(start = durs[j][1], end = durs[j][2], freq = 'H')\n",
    "        Weather = [weathers[j]]\n",
    "        for k in range(len(temp_time)-1):\n",
    "            Weather.append(weathers[j])\n",
    "        Wx = pd.DataFrame(Weather, index = temp_time, columns = column)\n",
    "        issue_date = pd.DataFrame({'issue_time': [str(start_time)]*len(Wx)}, index = Wx.index)    # issue date 넣기\n",
    "        Wx = issue_date.join(Wx)\n",
    "        TAF.loc[str(durs[j][1]) : str(durs[j][2])] = Wx\n",
    "        WW = TAF.fillna(method = 'ffill')\n",
    "    else:\n",
    "        temp_time= pd.date_range(start = durs[j][1], end = durs[j][2], freq = 'H')\n",
    "        Weather = [weathers[j]]\n",
    "        for k in range(len(temp_time)-1):\n",
    "            Weather.append(weathers[j])\n",
    "        Wx = pd.DataFrame(Weather, index = temp_time, columns = column)\n",
    "        issue_date = pd.DataFrame({'issue_time': [str(start_time)]*len(Wx)}, index = Wx.index)    # issue date 넣기\n",
    "        Wx = issue_date.join(Wx)\n",
    "        TAF.loc[str(durs[j][1]) : str(durs[j][2])] = Wx\n",
    "        WW = TAF.fillna(method = 'ffill')  "
   ]
  }
 ],
 "metadata": {
  "kernelspec": {
   "display_name": "Python 3",
   "language": "python",
   "name": "python3"
  },
  "language_info": {
   "codemirror_mode": {
    "name": "ipython",
    "version": 3
   },
   "file_extension": ".py",
   "mimetype": "text/x-python",
   "name": "python",
   "nbconvert_exporter": "python",
   "pygments_lexer": "ipython3",
   "version": "3.8.10"
  },
  "toc": {
   "base_numbering": 1,
   "nav_menu": {},
   "number_sections": true,
   "sideBar": true,
   "skip_h1_title": false,
   "title_cell": "Table of Contents",
   "title_sidebar": "Contents",
   "toc_cell": false,
   "toc_position": {},
   "toc_section_display": true,
   "toc_window_display": false
  },
  "varInspector": {
   "cols": {
    "lenName": 16,
    "lenType": 16,
    "lenVar": 40
   },
   "kernels_config": {
    "python": {
     "delete_cmd_postfix": "",
     "delete_cmd_prefix": "del ",
     "library": "var_list.py",
     "varRefreshCmd": "print(var_dic_list())"
    },
    "r": {
     "delete_cmd_postfix": ") ",
     "delete_cmd_prefix": "rm(",
     "library": "var_list.r",
     "varRefreshCmd": "cat(var_dic_list()) "
    }
   },
   "types_to_exclude": [
    "module",
    "function",
    "builtin_function_or_method",
    "instance",
    "_Feature"
   ],
   "window_display": false
  }
 },
 "nbformat": 4,
 "nbformat_minor": 5
}
