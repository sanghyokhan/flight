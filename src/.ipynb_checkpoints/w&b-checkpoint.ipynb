{
 "cells": [
  {
   "cell_type": "code",
   "execution_count": null,
   "id": "7ea68b7e",
   "metadata": {},
   "outputs": [],
   "source": [
    "!pip install selenium\n",
    "!apt-get update \n",
    "!apt install chromium-chromedriver"
   ]
  },
  {
   "cell_type": "code",
   "execution_count": 179,
   "id": "b4fdbb13",
   "metadata": {
    "ExecuteTime": {
     "end_time": "2021-08-27T05:26:32.185088Z",
     "start_time": "2021-08-27T05:26:32.177091Z"
    }
   },
   "outputs": [],
   "source": [
    "import re\n",
    "import pandas as pd\n",
    "import numpy as np\n",
    "from os import system\n",
    "from datetime import datetime, timedelta\n",
    "from selenium import webdriver"
   ]
  },
  {
   "cell_type": "code",
   "execution_count": 117,
   "id": "cce3ba4a",
   "metadata": {
    "ExecuteTime": {
     "end_time": "2021-08-27T05:00:03.867767Z",
     "start_time": "2021-08-27T05:00:03.844215Z"
    }
   },
   "outputs": [],
   "source": [
    "\"\"\" load data \"\"\"\n",
    "total_cs = pd.read_csv('../input/weight_and_balance.csv')\n",
    "rwy_df = pd.read_csv('../input/rwy_info.csv')"
   ]
  },
  {
   "cell_type": "code",
   "execution_count": 24,
   "id": "4283e7e1",
   "metadata": {
    "ExecuteTime": {
     "end_time": "2021-08-27T04:19:26.504867Z",
     "start_time": "2021-08-27T04:19:18.185170Z"
    }
   },
   "outputs": [
    {
     "name": "stdout",
     "output_type": "stream",
     "text": [
      "This program comes with ABSOLUTELY NO WARRANTY. This is free software, and you are welcome to redistribute it under certain conditions. \n",
      "\n",
      "\n",
      "\n",
      "< Weight & Balance > \n",
      "\n",
      "ENTER for default setting\n",
      "* Default airport : KSFB\n",
      "* Default time : Current Time \n",
      "\n",
      "- Departing Airport [ICAO] : \n",
      "\u001b[1A\u001b[K\n",
      "- Departing Airport [ICAO] : KSFB\n",
      "- Arrival Airport [ICAO] : \n",
      "\u001b[1A\u001b[K\n",
      "- Arrival Airport [ICAO] : KSFB\n",
      "- Estimated Time Departing(Z) [YYYYMMDD HHMM] , or Flight after [HH] : \n",
      "\u001b[1A\u001b[K\n",
      "- Estimated Time Departing(Z) [YYYYMMDD HHMM] : 2021-08-27 04:19:21.315853Z\n",
      "- Estimated Time Arrival(Z) [YYYYMMDD HHMM] , or Flight Time [HH] : 02\n",
      "\u001b[1A\u001b[K\n",
      "- Estimated Time Arrival(Z) [YYYYMMDD HHMM] : 2021-08-27 06:19:21.315853Z\n",
      "- Aircraft N number : 678lh\n",
      "\u001b[1A\u001b[K\n",
      "- Aircraft N number : 678LH\n",
      "\n",
      "\n",
      "\n",
      "\n"
     ]
    }
   ],
   "source": [
    "\"\"\" input \"\"\"\n",
    "system('cls')\n",
    "print('This program comes with ABSOLUTELY NO WARRANTY. This is free software, and you are welcome to redistribute it under certain conditions. \\n\\n\\n')\n",
    "print('< Weight & Balance > \\n')\n",
    "print('ENTER for default setting')\n",
    "print('* Default airport : KSFB')\n",
    "print('* Default time : Current Time \\n')\n",
    "\n",
    "# airport id\n",
    "arpt = input('- Departing Airport [ICAO] : ').lower()\n",
    "print ('\\033[1A' + '\\033[K')\n",
    "while True :\n",
    "    if len(arpt) == 0:\n",
    "        arpt = 'KSFB'\n",
    "        print('- Departing Airport [ICAO] : KSFB')\n",
    "        break\n",
    "    elif len(arpt) != 4:\n",
    "        print('\\nERROR : Enter ICAO aiport codes with 4 letters\\n')\n",
    "        arpt = input('- Departing Airport [ICAO] : ').lower()\n",
    "        print ('\\033[1A' + '\\033[K')\n",
    "    else:\n",
    "        print(f'- Departing Airport [ICAO] : {arpt}')\n",
    "        break\n",
    "\n",
    "arpt2 = input('- Arrival Airport [ICAO] : ').lower()\n",
    "print ('\\033[1A' + '\\033[K')\n",
    "while True :\n",
    "    if len(arpt2) == 0:\n",
    "        arpt2 = 'KSFB'\n",
    "        print('- Arrival Airport [ICAO] : KSFB')\n",
    "        break\n",
    "    elif len(arpt2) != 4:\n",
    "        print('\\nERROR : Enter ICAO aiport codes with 4 letters\\n')\n",
    "        arpt2 = input('- Arrival Airport [ICAO] : ').lower()\n",
    "        print ('\\033[1A' + '\\033[K')\n",
    "    else:\n",
    "        print(f'- Arrival Airport [ICAO] : {arpt2}')\n",
    "        break\n",
    "\n",
    "\n",
    "# time\n",
    "time = input('- Estimated Time Departing(Z) [YYYYMMDD HHMM] , or Flight after [HH] : ')\n",
    "print ('\\033[1A' + '\\033[K')\n",
    "if len(time) == 0:\n",
    "    time = datetime.utcnow()\n",
    "    print(f'- Estimated Time Departing(Z) [YYYYMMDD HHMM] : {time}Z')\n",
    "elif len(time) == 2:\n",
    "    time = datetime.utcnow() + timedelta(hours = int(time))\n",
    "    print(f'- Estimated Time Departing(Z) [YYYYMMDD HHMM] : {time}Z')\n",
    "else:\n",
    "    time = datetime.strptime(time, '%Y%m%d %H%M')\n",
    "    print(f'- Estimated Time Departing(Z) [YYYYMMDD HHMM] : {time}Z')\n",
    "\n",
    "time2 = input('- Estimated Time Arrival(Z) [YYYYMMDD HHMM] , or Flight Time [HH] : ')\n",
    "print ('\\033[1A' + '\\033[K')\n",
    "if len(time2) == 0:\n",
    "    time2 = datetime.utcnow()\n",
    "    print(f'- Estimated Time Arrival(Z) [YYYYMMDD HHMM] : {time2}Z')\n",
    "elif len(time2) == 2:\n",
    "    time2 = time + timedelta(hours = int(time2))\n",
    "    print(f'- Estimated Time Arrival(Z) [YYYYMMDD HHMM] : {time2}Z')\n",
    "else:\n",
    "    time2 = datetime.strptime(time2, '%Y%m%d %H%M')\n",
    "    print(f'- Estimated Time Arrival(Z) [YYYYMMDD HHMM] : {time2}Z')\n",
    "\n",
    "\n",
    "# aircraft callsign\n",
    "cs = input('- Aircraft N number : ').upper()\n",
    "cs_df = total_cs[total_cs['N'] == cs]\n",
    "print ('\\033[1A' + '\\033[K')\n",
    "while True:\n",
    "    if len(cs_df) == 0:\n",
    "        print('\\nERROR : Invalid N number')\n",
    "        cs = input('- Aircraft N number : ').upper()\n",
    "        cs_df = total_cs[total_cs['N'] == cs]\n",
    "        print ('\\033[1A' + '\\033[K')\n",
    "    else:\n",
    "        print(f'- Aircraft N number : {cs}')\n",
    "        break\n",
    "print('\\n\\n\\n')"
   ]
  },
  {
   "cell_type": "code",
   "execution_count": 354,
   "id": "d025f45e",
   "metadata": {
    "ExecuteTime": {
     "end_time": "2021-08-27T09:17:24.532592Z",
     "start_time": "2021-08-27T09:17:18.089813Z"
    }
   },
   "outputs": [],
   "source": [
    "url = f'https://www.aviationweather.gov/metar/data?ids={arpt}&format=raw&hours=0&taf=on&layout=on'\n",
    "driver = webdriver.Chrome()\n",
    "driver.get(url)\n",
    "\n",
    "metar = driver.find_element_by_xpath(f\"//*[@id='awc_main_content_wrap']/code[1]\")\n",
    "metar = str(metar.text)\n",
    "taf = driver.find_element_by_xpath(f\"//*[@id='awc_main_content_wrap']/code[2]\")\n",
    "taf = str(taf.text)\n",
    "driver.quit()"
   ]
  },
  {
   "cell_type": "code",
   "execution_count": 354,
   "id": "36e89d5e",
   "metadata": {
    "ExecuteTime": {
     "end_time": "2021-08-27T09:17:24.532592Z",
     "start_time": "2021-08-27T09:17:18.089813Z"
    }
   },
   "outputs": [],
   "source": [
    "url2 = f'https://www.aviationweather.gov/metar/data?ids={arpt2}&format=raw&hours=0&taf=on&layout=on'\n",
    "driver = webdriver.Chrome()\n",
    "driver.get(url2)\n",
    "\n",
    "metar2 = driver.find_element_by_xpath(f\"//*[@id='awc_main_content_wrap']/code[1]\")\n",
    "metar2 = str(metar2.text)\n",
    "taf2 = driver.find_element_by_xpath(f\"//*[@id='awc_main_content_wrap']/code[2]\")\n",
    "taf2 = str(taf2.text)\n",
    "driver.quit()"
   ]
  },
  {
   "cell_type": "code",
   "execution_count": 355,
   "id": "a5025c6e",
   "metadata": {
    "ExecuteTime": {
     "end_time": "2021-08-27T09:17:25.162442Z",
     "start_time": "2021-08-27T09:17:25.157443Z"
    }
   },
   "outputs": [
    {
     "data": {
      "text/plain": [
       "'KSFB 270554Z 2706/2806 08005KT P6SM SCT025 SCT250\\n  FM271400 09010G15KT P6SM FEW025 SCT080 BKN200\\n  FM271600 09010G15KT P6SM VCTS SCT025CB SCT120 BKN200\\n  TEMPO 2717/2721 3SM TSRA BKN025CB\\n  FM280000 10008KT P6SM FEW025 SCT050 BKN250'"
      ]
     },
     "execution_count": 355,
     "metadata": {},
     "output_type": "execute_result"
    }
   ],
   "source": [
    "taf"
   ]
  },
  {
   "cell_type": "code",
   "execution_count": 27,
   "id": "a8126c97",
   "metadata": {
    "ExecuteTime": {
     "end_time": "2021-08-27T04:19:38.012546Z",
     "start_time": "2021-08-27T04:19:37.997516Z"
    }
   },
   "outputs": [
    {
     "data": {
      "text/plain": [
       "'KSFB 270353Z AUTO 07005KT 10SM CLR 26/24 A3003 RMK AO2 SLP169 T02610244'"
      ]
     },
     "execution_count": 27,
     "metadata": {},
     "output_type": "execute_result"
    }
   ],
   "source": [
    "metar"
   ]
  },
  {
   "cell_type": "code",
   "execution_count": 281,
   "id": "3f7c4c09",
   "metadata": {
    "ExecuteTime": {
     "end_time": "2021-08-27T06:49:19.428431Z",
     "start_time": "2021-08-27T06:49:19.421421Z"
    }
   },
   "outputs": [],
   "source": [
    "pattern_issue = '[0-9].....Z'\n",
    "pattern_date = '[0-9]+/[0-9]{2,4}|[0-9][0-9][0-9][0-9][0-9][0-9]\\s'\n",
    "pattern_wind = '\\s[0-9]...[0-9][A-Z]|\\sV...[0-9][A-Z]'              # limited below 100kt\n",
    "pattern_temp = '[0-9][0-9]/[0-9][0-9]|M[0-9][0-9]/[0-9][0-9]|[0-9][0-9]/M[0-9][0-9]|M[0-9][0-9]/M[0-9][0-9]'\n",
    "pattern_pres = 'A[0-9][0-9][0-9][0-9]'\n",
    "pattern_vis = '\\s.[0-9]SM\\s|\\s[0-9]SM\\s'               \n",
    "pattern_cloud = '[FSBO][ECKV][WTNC][0-9][0-9][0-9]|CLR|SKC|VV[0-9][0-9][0-9]'\n",
    "pattern_cavok = '\\sC[A-Z][A-Z][A-Z][A-Z]\\s'\n",
    "pattern_wc = 'NSW|TS|DZ|RA|SN|SG|IC|PL|GR|GS|BR|FG|FU|VA|DU|SA|HZ|SQ|FC|SS|DS'\n",
    "pattern_chg = 'BECMG\\s[0-9][0-9][0-9][0-9]/[0-9][0-9][0-9][0-9]|TEMPO\\s[0-9][0-9][0-9][0-9]/[0-9][0-9][0-9][0-9]|FM[0-9][0-9][0-9][0-9][0-9][0-9]'\n",
    "regex = re.compile(pattern_date)\n",
    "search = regex.search(metar)"
   ]
  },
  {
   "cell_type": "markdown",
   "id": "1c45d9ca",
   "metadata": {},
   "source": [
    "'KSFB 270554Z 2706/2806 08005KT P6SM SCT025 SCT250<br>  FM271400 09010G15KT P6SM FEW025 SCT080 BKN200<br>  FM271600 09010G15KT P6SM VCTS SCT025CB SCT120 BKN200<br>  TEMPO 2717/2721 3SM TSRA BKN025CB<br>  FM280000 10008KT P6SM FEW025 SCT050 BKN250'"
   ]
  },
  {
   "cell_type": "code",
   "execution_count": 29,
   "id": "b9b0273e",
   "metadata": {
    "ExecuteTime": {
     "end_time": "2021-08-27T04:19:38.297474Z",
     "start_time": "2021-08-27T04:19:38.283373Z"
    }
   },
   "outputs": [],
   "source": [
    "# issue time\n",
    "issue = metar[re.search(pattern_issue, metar).start() : re.search(pattern_issue, metar).start()+6]\n",
    "if datetime.utcnow().day > int(issue[:2]):\n",
    "    yyyymm = datetime.utcnow().strftime('%Y') + (datetime.utcnow() + timedelta(days = 1)).strftime('%m')    # 달 넘어가는 것\n",
    "else: \n",
    "    yyyymm = datetime.utcnow().strftime('%Y') + datetime.utcnow().strftime('%m')\n",
    "issue_time = datetime.strptime(yyyymm + issue, '%Y%m%d%H%M')"
   ]
  },
  {
   "cell_type": "code",
   "execution_count": null,
   "id": "3fab7f91",
   "metadata": {},
   "outputs": [],
   "source": [
    "issue_2 = metar2[re.search(pattern_issue, metar2).start() : re.search(pattern_issue, metar2).start()+6]\n",
    "if datetime.utcnow().day > int(issue_2[:2]):\n",
    "    yyyymm = datetime.utcnow().strftime('%Y') + (datetime.utcnow() + timedelta(days = 1)).strftime('%m')    # 달 넘어가는 것\n",
    "else: \n",
    "    yyyymm = datetime.utcnow().strftime('%Y') + datetime.utcnow().strftime('%m')\n",
    "issue_time_2 = datetime.strptime(yyyymm + issue_2, '%Y%m%d%H%M')"
   ]
  },
  {
   "cell_type": "code",
   "execution_count": 462,
   "id": "06286ec1",
   "metadata": {
    "ExecuteTime": {
     "end_time": "2021-08-27T10:12:40.701329Z",
     "start_time": "2021-08-27T10:12:40.676324Z"
    }
   },
   "outputs": [],
   "source": [
    "# arrival data\n",
    "chg2 = list(re.finditer(pattern_chg, taf2))\n",
    "taf_df = pd.DataFrame()\n",
    "taf_df = taf_df.append(pd.DataFrame({issue_time_2 : metar2}, index = ['taf']).T)\n",
    "taftaf = taf\n",
    "for change in range(len(chg2)):\n",
    "    try:\n",
    "        temp_taf = taftaf[chg2[change].start():chg2[change+1].start()]\n",
    "    except:\n",
    "        temp_taf = taftaf[chg2[change].start():]\n",
    "        \n",
    "    if taftaf[chg2[change].start():chg2[change].start()+2] == 'FM':\n",
    "        temp_time = datetime.strptime(yyyymm+temp_taf[2:8], '%Y%m%d%H%M')\n",
    "        taf_df = taf_df.append(pd.DataFrame({temp_time : temp_taf}, index = ['taf']).T)\n",
    "    elif taftaf[chg2[change].start():chg2[change].start()+5] == 'BECMG':\n",
    "        temp_time = datetime.strptime(yyyymm+temp_taf[6:10], '%Y%m%d%H')\n",
    "        taf_df = taf_df.append(pd.DataFrame({temp_time : temp_taf}, index = ['taf']).T)\n",
    "    elif taftaf[chg2[change].start():chg2[change].start()+5] == 'TEMPO':           \n",
    "        temp_time_s = datetime.strptime(yyyymm+temp_taf[6:10], '%Y%m%d%H')\n",
    "        temp_time_e = datetime.strptime(yyyymm+temp_taf[11:15], '%Y%m%d%H')\n",
    "        taf_df = taf_df.append(pd.DataFrame({temp_time_s : temp_taf}, index = ['taf']).T)\n",
    "        taf_df = taf_df.append(pd.DataFrame(taf_df.iloc[-2,:].values, index = [temp_time_e], columns = ['taf']))"
   ]
  },
  {
   "cell_type": "code",
   "execution_count": 481,
   "id": "d2a22905",
   "metadata": {
    "ExecuteTime": {
     "end_time": "2021-08-27T10:20:46.075128Z",
     "start_time": "2021-08-27T10:20:46.058109Z"
    }
   },
   "outputs": [],
   "source": [
    "wx2 = pd.DataFrame({issue_time_2 : metar2}, index = ['taf']).T\n",
    "for i in range(1, len(taf_df)):\n",
    "    if taf_df.index[1] > time2:\n",
    "        wx2 = taf[:chg2[0].start()]\n",
    "        break\n",
    "    elif taf_df.index[i] < time2:\n",
    "        wx2 = taf_df['taf'][i]\n",
    "    else:\n",
    "        break"
   ]
  },
  {
   "cell_type": "code",
   "execution_count": 484,
   "id": "31cc5cfe",
   "metadata": {
    "ExecuteTime": {
     "end_time": "2021-08-27T10:26:19.000062Z",
     "start_time": "2021-08-27T10:26:18.982093Z"
    }
   },
   "outputs": [],
   "source": [
    "issue2 = taf[re.search(pattern_issue, taf).start() : re.search(pattern_issue, taf).start()+6]\n",
    "issue_time2 = datetime.strptime(yyyymm + issue2, '%Y%m%d%H%M')"
   ]
  },
  {
   "cell_type": "code",
   "execution_count": 51,
   "id": "ce8e00c2",
   "metadata": {
    "ExecuteTime": {
     "end_time": "2021-08-27T04:21:49.359680Z",
     "start_time": "2021-08-27T04:21:49.345667Z"
    }
   },
   "outputs": [],
   "source": [
    "# wind\n",
    "wind_dir = metar[re.search(pattern_wind, metar).start()+1 : re.search(pattern_wind, metar).start()+4].zfill(3)\n",
    "wind_vel = metar[re.search(pattern_wind, metar).start()+4 : re.search(pattern_wind, metar).start()+6].zfill(2)\n",
    "\n",
    "if metar[re.search(pattern_wind, metar).start()+6] == 'G':\n",
    "    gust = metar[re.search(pattern_wind, metar).start()+6 : re.search(pattern_wind, metar).start()+9]\n",
    "else:\n",
    "    gust = 0"
   ]
  },
  {
   "cell_type": "code",
   "execution_count": 486,
   "id": "2d9bd9b3",
   "metadata": {
    "ExecuteTime": {
     "end_time": "2021-08-27T10:27:55.680636Z",
     "start_time": "2021-08-27T10:27:55.666455Z"
    }
   },
   "outputs": [],
   "source": [
    "# wind2\n",
    "try:\n",
    "    wind_dir2 = wx2[re.search(pattern_wind, wx2).start()+1 : re.search(pattern_wind, wx2).start()+4].zfill(3)\n",
    "    wind_vel2 = wx2[re.search(pattern_wind, wx2).start()+4 : re.search(pattern_wind, wx2).start()+6].zfill(2)\n",
    "\n",
    "    if wx2[re.search(pattern_wind, wx2).start()+6] == 'G':\n",
    "        gust2 = wx2[re.search(pattern_wind, wx2).start()+6 : re.search(pattern_wind, wx2).start()+9]\n",
    "    else:\n",
    "        gust2 = 0\n",
    "except: \n",
    "    wind_dir2 = 'X'\n",
    "    wind_vel2 = 'X'\n",
    "    guts2 = 'X'"
   ]
  },
  {
   "cell_type": "code",
   "execution_count": 503,
   "id": "b666caff",
   "metadata": {
    "ExecuteTime": {
     "end_time": "2021-08-27T10:31:35.386050Z",
     "start_time": "2021-08-27T10:31:35.374040Z"
    }
   },
   "outputs": [],
   "source": [
    "# vis\n",
    "vis =  int(metar[re.search(pattern_vis, metar).start()+1 : re.search(pattern_vis, metar).end()-3])"
   ]
  },
  {
   "cell_type": "code",
   "execution_count": 507,
   "id": "17c1e762",
   "metadata": {
    "ExecuteTime": {
     "end_time": "2021-08-27T10:31:45.305059Z",
     "start_time": "2021-08-27T10:31:45.294026Z"
    }
   },
   "outputs": [],
   "source": [
    "# vis2\n",
    "try:\n",
    "    vis2 = int(wx2[re.search(pattern_vis, wx2).start()+1 : re.search(pattern_vis, wx2).end()-3])\n",
    "except:\n",
    "    vis2 = 'X'"
   ]
  },
  {
   "cell_type": "code",
   "execution_count": 108,
   "id": "0e24ef35",
   "metadata": {
    "ExecuteTime": {
     "end_time": "2021-08-27T04:40:28.341786Z",
     "start_time": "2021-08-27T04:40:28.321704Z"
    }
   },
   "outputs": [],
   "source": [
    "# cloud\n",
    "cloud_list = list(re.finditer(pattern_cloud, metar))\n",
    "for cld in range(len(cloud_list)):\n",
    "    if (cloud_list[cld][0][:3] == 'BKN') or (cloud_list[cld][0][:3] == 'OVC'):\n",
    "        cig = cloud_list[cld][0]\n",
    "        break\n",
    "    else:\n",
    "        cig = 0"
   ]
  },
  {
   "cell_type": "code",
   "execution_count": 509,
   "id": "fedc1b82",
   "metadata": {
    "ExecuteTime": {
     "end_time": "2021-08-27T12:39:48.659974Z",
     "start_time": "2021-08-27T12:39:48.645831Z"
    }
   },
   "outputs": [],
   "source": [
    "# cloud2\n",
    "cloud_list2 = list(re.finditer(pattern_cloud, wx2))\n",
    "for cld in range(len(cloud_list2)):\n",
    "    if (cloud_list2[cld][0][:3] == 'BKN') or (cloud_list2[cld][0][:3] == 'OVC'):\n",
    "        cig2 = cloud_list2[cld][0]\n",
    "        break\n",
    "    else:\n",
    "        cig2 = 0"
   ]
  },
  {
   "cell_type": "code",
   "execution_count": 43,
   "id": "3a93a0d9",
   "metadata": {
    "ExecuteTime": {
     "end_time": "2021-08-27T04:21:26.663715Z",
     "start_time": "2021-08-27T04:21:26.646902Z"
    }
   },
   "outputs": [],
   "source": [
    "# temp, due\n",
    "if metar[re.search(pattern_temp, metar).start()] == 'M':\n",
    "    temp = int(metar[re.search(pattern_temp, metar).start()+1 : re.search(pattern_temp, metar).start()+3]) * (-1)\n",
    "else:\n",
    "    temp = int(metar[re.search(pattern_temp, metar).start() : re.search(pattern_temp, metar).start()+2])\n",
    "    \n",
    "if metar[re.search(pattern_temp, metar).end()-3] == 'M':\n",
    "    due = int(metar[re.search(pattern_temp, metar).end()-2 : re.search(pattern_temp, metar).end()]) * (-1)\n",
    "else:\n",
    "    due = int(metar[re.search(pattern_temp, metar).end()-2 : re.search(pattern_temp, metar).end()])"
   ]
  },
  {
   "cell_type": "code",
   "execution_count": 511,
   "id": "dfb3f706",
   "metadata": {
    "ExecuteTime": {
     "end_time": "2021-08-27T12:42:24.146707Z",
     "start_time": "2021-08-27T12:42:24.137669Z"
    }
   },
   "outputs": [],
   "source": [
    "# temp2, due2\n",
    "#if wx2[re.search(pattern_temp, wx2).start()] == 'M':\n",
    "#    temp2 = int(wx2[re.search(pattern_temp, wx2).start()+1 : re.search(pattern_temp, wx2).start()+3]) * (-1)\n",
    "#else:\n",
    "#    temp2 = int(wx2[re.search(pattern_temp, wx2).start() : re.search(pattern_temp, wx2).start()+2])\n",
    "#if wx2[re.search(pattern_temp, wx2).end()-3] == 'M':\n",
    "#    due2 = int(wx2[re.search(pattern_temp, wx2).end()-2 : re.search(pattern_temp, wx2).end()]) * (-1)\n",
    "#else:\n",
    "#    due2 = int(wx2[re.search(pattern_temp, wx2).end()-2 : re.search(pattern_temp, wx2).end()])\n",
    "temp2 = 'x'\n",
    "due2 = 'X'"
   ]
  },
  {
   "cell_type": "code",
   "execution_count": 44,
   "id": "c33c242e",
   "metadata": {
    "ExecuteTime": {
     "end_time": "2021-08-27T04:21:26.963245Z",
     "start_time": "2021-08-27T04:21:26.944671Z"
    }
   },
   "outputs": [],
   "source": [
    "# pressure\n",
    "pres = int(metar[re.search(pattern_pres, metar).start()+1 : re.search(pattern_pres, metar).start()+5])/100"
   ]
  },
  {
   "cell_type": "code",
   "execution_count": 513,
   "id": "509f846a",
   "metadata": {
    "ExecuteTime": {
     "end_time": "2021-08-27T12:42:40.430537Z",
     "start_time": "2021-08-27T12:42:40.421505Z"
    }
   },
   "outputs": [],
   "source": [
    "# pressure2\n",
    "#pres2 = int(wx2[re.search(pattern_pres, wx2).start()+1 : re.search(pattern_pres, wx2).start()+5])/100\n",
    "pres2 = 'X'"
   ]
  },
  {
   "cell_type": "code",
   "execution_count": 47,
   "id": "917e8a56",
   "metadata": {
    "ExecuteTime": {
     "end_time": "2021-08-27T04:21:29.242926Z",
     "start_time": "2021-08-27T04:21:29.229847Z"
    }
   },
   "outputs": [],
   "source": [
    "# pa, da\n",
    "\n",
    "# station pressure (https://www.weather.gov/media/epz/wxcalc/stationPressure.pdf)\n",
    "fe = rwy_df[rwy_df['arpt'] == arpt]['fe'][0] * 0.3048    # field elevation(ft) into meters\n",
    "fe2 = rwy_df[rwy_df['arpt'] == arpt2]['fe'][0] * 0.3048\n",
    "station_pressure_inHg = pres * (((288 - (0.0065 * fe))/288)**(5.2561))\n",
    "station_pressure_mil = station_pressure_inHg * 33.8639\n",
    "\n",
    "\n",
    "# pressure altitude(https://www.weather.gov/media/epz/wxcalc/pressureAltitude.pdf)\n",
    "pa = (1 - (station_pressure_mil/1013.25)**(0.190284)) * 145366.45\n",
    "\n",
    "# density altitude (https://www.weather.gov/media/epz/wxcalc/densityAltitude.pdf)\n",
    "vapor_pressure = 6.11 * (10 **((7.5 * due) / (237.7 + due)))\n",
    "tv_kelvin = (temp + 273.15) / (1 - ((vapor_pressure / station_pressure_mil) * (1 - 0.622)))  # Kelvin\n",
    "tv_rankine = (tv_kelvin * 9 / 5)\n",
    "da = 145366 * ( 1 - ((17.326 * station_pressure_mil * 0.029530 / tv_rankine )**(0.235)))"
   ]
  },
  {
   "cell_type": "code",
   "execution_count": 235,
   "id": "24a91484",
   "metadata": {
    "ExecuteTime": {
     "end_time": "2021-08-27T06:29:53.270439Z",
     "start_time": "2021-08-27T06:29:51.384081Z"
    }
   },
   "outputs": [
    {
     "name": "stdout",
     "output_type": "stream",
     "text": [
      "< Runway Information > \n",
      "\n",
      "\n",
      "KSFB\n",
      "Runway 9L/27R - HDG : 095/275  Length : 11002'\n",
      "Runway 9C/27C - HDG : 095/275  Length : 3578'\n",
      "Runway 9R/27L - HDG : 095/275  Length : 5839'\n",
      "Runway 18/36 - HDG : 185/365  Length : 6002'\n",
      "\n",
      "- Wind Direction : 070\n",
      "\n",
      "- Favored Runway\n",
      "  9L/27R\n",
      "  9C/27C\n",
      "  9R/27L\n",
      "\n",
      "KSFB Active Runway [##]: 9\n",
      "\n",
      "-------------------------------------------------------------------------------------\n",
      "\n"
     ]
    }
   ],
   "source": [
    "# rwy\n",
    "temp_rwy_df = rwy_df[rwy_df['arpt'] == arpt].reset_index(drop=True)\n",
    "\n",
    "print('< Runway Information > \\n\\n')\n",
    "print(temp_rwy_df['arpt'][0])\n",
    "\n",
    "rwy_hdg = []\n",
    "rwy_name = []\n",
    "for rwy_info in range(1,(len(temp_rwy_df.T.dropna())-2)//4+2):\n",
    "    print('Runway ' + temp_rwy_df[f'rwy{rwy_info}'][0] \n",
    "          + ' - HDG : ' + str(int(temp_rwy_df[f'heading{rwy_info}'][0])).zfill(3) + '/' + str(180+int(temp_rwy_df[f'heading{rwy_info}'][0])).zfill(3)\n",
    "          + '  Length : ' + str(int(temp_rwy_df[f'length{rwy_info}'][0])) + \"'\")\n",
    "    rwy_hdg.append(int(temp_rwy_df[f'heading{rwy_info}'][0]))\n",
    "    rwy_name.append(temp_rwy_df[f'rwy{rwy_info}'][0])\n",
    "        \n",
    "# favored runway\n",
    "if wind_dir == 'VRB':\n",
    "    fav_rwy = np.array(rwy_name)\n",
    "else:\n",
    "    fav_rwy_array = list(np.array(rwy_hdg) - np.ones(len(rwy_hdg)) * int(wind_dir))\n",
    "    fav_rwy_value = min(fav_rwy_array)\n",
    "    rwy_name = np.array(rwy_name)\n",
    "    fav_rwy = rwy_name[fav_rwy_array == fav_rwy_value]\n",
    "print('\\n- Wind Direction : ' + wind_dir)\n",
    "print('\\n- Favored Runway')\n",
    "for fav in range(len(fav_rwy)):\n",
    "    print('  ' + fav_rwy[fav])\n",
    "    \n",
    "# active runway\n",
    "active_rwy = input(f'\\n{arpt} Active Runway [##]: ')\n",
    "act_rwy_array = list(np.array(rwy_hdg) - np.ones(len(rwy_hdg)) * int(active_rwy))\n",
    "act_rwy_value = min(act_rwy_array)\n",
    "active_rwy_length = []\n",
    "active_rwy_heading = []\n",
    "for i in range(1, len(act_rwy_array)):\n",
    "    if act_rwy_array[i-1] == act_rwy_value:\n",
    "        active_rwy_length.append(temp_rwy_df[f'length{i}'][0])\n",
    "        active_rwy_heading.append(temp_rwy_df[f'heading{i}'][0])\n",
    "\n",
    "print('\\n-------------------------------------------------------------------------------------\\n')"
   ]
  },
  {
   "cell_type": "code",
   "execution_count": 256,
   "id": "fa224d51",
   "metadata": {
    "ExecuteTime": {
     "end_time": "2021-08-27T06:34:15.354696Z",
     "start_time": "2021-08-27T06:34:15.337731Z"
    }
   },
   "outputs": [],
   "source": [
    "# headwind, crosswind\n",
    "if wind_dir == 'VRB':\n",
    "    headwind = wind_vel\n",
    "    crosswind = wind_vel\n",
    "else:\n",
    "    headwind = np.cos(abs(int(wind_dir) - active_rwy_heading[0]) * np.pi/180) * float(wind_vel)\n",
    "    headwind = round(headwind,1)\n",
    "    crosswind = np.sin(abs(int(wind_dir) - active_rwy_heading[0]) * np.pi/180) * float(wind_vel)\n",
    "    crosswind = round(crosswind,1)"
   ]
  },
  {
   "cell_type": "code",
   "execution_count": null,
   "id": "db89b638",
   "metadata": {},
   "outputs": [],
   "source": []
  },
  {
   "cell_type": "code",
   "execution_count": null,
   "id": "595a16a8",
   "metadata": {},
   "outputs": [],
   "source": []
  },
  {
   "cell_type": "code",
   "execution_count": null,
   "id": "ff9618cf",
   "metadata": {},
   "outputs": [],
   "source": []
  },
  {
   "cell_type": "code",
   "execution_count": null,
   "id": "dbb49e07",
   "metadata": {},
   "outputs": [],
   "source": []
  },
  {
   "cell_type": "code",
   "execution_count": null,
   "id": "d69d11d6",
   "metadata": {},
   "outputs": [],
   "source": []
  },
  {
   "cell_type": "code",
   "execution_count": 203,
   "id": "8d96423c",
   "metadata": {
    "ExecuteTime": {
     "end_time": "2021-08-27T05:32:45.692830Z",
     "start_time": "2021-08-27T05:32:45.680771Z"
    }
   },
   "outputs": [],
   "source": []
  },
  {
   "cell_type": "code",
   "execution_count": 231,
   "id": "8134bc62",
   "metadata": {
    "ExecuteTime": {
     "end_time": "2021-08-27T06:19:57.021624Z",
     "start_time": "2021-08-27T06:19:57.002325Z"
    }
   },
   "outputs": [
    {
     "data": {
      "text/html": [
       "<div>\n",
       "<style scoped>\n",
       "    .dataframe tbody tr th:only-of-type {\n",
       "        vertical-align: middle;\n",
       "    }\n",
       "\n",
       "    .dataframe tbody tr th {\n",
       "        vertical-align: top;\n",
       "    }\n",
       "\n",
       "    .dataframe thead th {\n",
       "        text-align: right;\n",
       "    }\n",
       "</style>\n",
       "<table border=\"1\" class=\"dataframe\">\n",
       "  <thead>\n",
       "    <tr style=\"text-align: right;\">\n",
       "      <th></th>\n",
       "      <th>Departure</th>\n",
       "    </tr>\n",
       "  </thead>\n",
       "  <tbody>\n",
       "    <tr>\n",
       "      <th>issue</th>\n",
       "      <td>2021-08-27 03:53:00</td>\n",
       "    </tr>\n",
       "    <tr>\n",
       "      <th>wind_direction</th>\n",
       "      <td>070</td>\n",
       "    </tr>\n",
       "    <tr>\n",
       "      <th>wind_velocity</th>\n",
       "      <td>05</td>\n",
       "    </tr>\n",
       "    <tr>\n",
       "      <th>gust</th>\n",
       "      <td>0</td>\n",
       "    </tr>\n",
       "    <tr>\n",
       "      <th>visibility</th>\n",
       "      <td>10</td>\n",
       "    </tr>\n",
       "    <tr>\n",
       "      <th>ceiling</th>\n",
       "      <td>BKN090</td>\n",
       "    </tr>\n",
       "    <tr>\n",
       "      <th>temperature</th>\n",
       "      <td>26</td>\n",
       "    </tr>\n",
       "    <tr>\n",
       "      <th>due_point</th>\n",
       "      <td>24</td>\n",
       "    </tr>\n",
       "    <tr>\n",
       "      <th>altimeter</th>\n",
       "      <td>30.03</td>\n",
       "    </tr>\n",
       "    <tr>\n",
       "      <th>active runway</th>\n",
       "      <td>09</td>\n",
       "    </tr>\n",
       "    <tr>\n",
       "      <th>pressure_altitude</th>\n",
       "      <td>-45.346706</td>\n",
       "    </tr>\n",
       "    <tr>\n",
       "      <th>density_altitude</th>\n",
       "      <td>1612.484741</td>\n",
       "    </tr>\n",
       "    <tr>\n",
       "      <th>available runway length</th>\n",
       "      <td>[11002.0, 3578.0, 5839.0]</td>\n",
       "    </tr>\n",
       "  </tbody>\n",
       "</table>\n",
       "</div>"
      ],
      "text/plain": [
       "                                         Departure\n",
       "issue                          2021-08-27 03:53:00\n",
       "wind_direction                                 070\n",
       "wind_velocity                                   05\n",
       "gust                                             0\n",
       "visibility                                      10\n",
       "ceiling                                     BKN090\n",
       "temperature                                     26\n",
       "due_point                                       24\n",
       "altimeter                                    30.03\n",
       "active runway                                   09\n",
       "pressure_altitude                       -45.346706\n",
       "density_altitude                       1612.484741\n",
       "available runway length  [11002.0, 3578.0, 5839.0]"
      ]
     },
     "execution_count": 231,
     "metadata": {},
     "output_type": "execute_result"
    }
   ],
   "source": [
    "wx = pd.DataFrame({'issue' : issue_time,\n",
    "                    'wind_direction' : wind_dir,\n",
    "                    'wind_velocity' : wind_vel,\n",
    "                    'gust' : gust,\n",
    "                    'visibility' : vis,\n",
    "                    'ceiling' : cig,\n",
    "                    'temperature' : temp,\n",
    "                    'due_point' : due,\n",
    "                    'altimeter' : pres,\n",
    "                    'active_runway' : active_rwy,\n",
    "                    'pressure_altitude' : pa,\n",
    "                    'density_altitude' : da,\n",
    "                    'available_runway_length' : str(active_rwy_length),\n",
    "                    'headwind_component' : headwind,\n",
    "                    'crosswind_component' : crosswind\n",
    "                    }, index = ['Departure'])\n",
    "wx.T"
   ]
  },
  {
   "cell_type": "code",
   "execution_count": 17,
   "id": "fff80dbc",
   "metadata": {
    "ExecuteTime": {
     "end_time": "2021-08-27T04:05:23.457220Z",
     "start_time": "2021-08-27T04:05:23.451144Z"
    }
   },
   "outputs": [
    {
     "data": {
      "text/plain": [
       "'KSFB 270353Z AUTO 07005KT 10SM CLR 26/24 A3003 RMK AO2 SLP169 T02610244'"
      ]
     },
     "execution_count": 17,
     "metadata": {},
     "output_type": "execute_result"
    }
   ],
   "source": [
    "metar"
   ]
  },
  {
   "cell_type": "markdown",
   "id": "66292132",
   "metadata": {},
   "source": [
    "***\n",
    "***\n",
    "***\n",
    "***\n",
    "***\n",
    "***"
   ]
  },
  {
   "cell_type": "markdown",
   "id": "0a6e6adf",
   "metadata": {},
   "source": [
    "KSFB 250547Z 2506/2606 11004KT P6SM FEW050 SCT110 BKN250<br>\n",
    "FM251400 13007KT P6SM SCT025 SCT150 BKN250 <br>\n",
    "FM251600 13009KT P6SM VCSH SCT035 SCT060 BKN300<br>\n",
    "FM252100 09010KT P6SM FEW050 SCT120 SCT300<br>\n",
    "FM260100 07006KT P6SM FEW040 SCT090 BKN120"
   ]
  },
  {
   "cell_type": "code",
   "execution_count": null,
   "id": "75aacfae",
   "metadata": {
    "ExecuteTime": {
     "end_time": "2021-08-25T13:25:40.907613Z",
     "start_time": "2021-08-25T13:25:40.899119Z"
    }
   },
   "outputs": [],
   "source": [
    "# 1. Pattern\n",
    "pattern_issue = '[0-9].....Z'\n",
    "pattern_date = '[0-9]+/[0-9]{2,4}|[0-9][0-9][0-9][0-9][0-9][0-9]\\s'\n",
    "pattern_taf = 'TX........Z|TX.......Z'             # BECMG, TEMPO 전 text 찾는데 사용\n",
    "pattern_wind = '\\s[0-9]...[0-9][A-Z]'              # 단, 100KT이상은 잡을 수 X        \n",
    "pattern_vis = '\\s[0-9]..[0-9]\\s'               \n",
    "pattern_cavok = '\\sC[A-Z][A-Z][A-Z][A-Z]\\s'\n",
    "pattern_wc = 'NSW|TS|DZ|RA|SN|SG|IC|PL|GR|GS|BR|FG|FU|VA|DU|SA|HZ|SQ|FC|SS|DS'\n",
    "pattern_cloud = '[FSBO][A-Z][A-Z]..[0-9]'\n",
    "pattern_chg = 'BECMG|TEMPO|FM'\n",
    "regex = re.compile(pattern_date)\n",
    "search = regex.search(taf)"
   ]
  },
  {
   "cell_type": "code",
   "execution_count": null,
   "id": "eba009bc",
   "metadata": {
    "ExecuteTime": {
     "end_time": "2021-08-25T13:26:12.793636Z",
     "start_time": "2021-08-25T13:26:12.778639Z"
    }
   },
   "outputs": [],
   "source": [
    "start = taf[re.search(pattern_date, taf).start() : re.search(pattern_date, taf).start()+4]\n",
    "end = taf[re.search(pattern_date, taf).start()+5 : re.search(pattern_date, taf).start()+9]\n",
    "yymm = time.strftime('%Y') + time.strftime('%m')\n",
    "start_time = datetime.strptime(yymm + start, '%Y%m%d%H')\n",
    "end_time = datetime.strptime(yymm + end, '%Y%m%d%H')"
   ]
  },
  {
   "cell_type": "code",
   "execution_count": null,
   "id": "3e9e9a72",
   "metadata": {
    "ExecuteTime": {
     "end_time": "2021-08-25T13:26:13.358538Z",
     "start_time": "2021-08-25T13:26:13.345531Z"
    }
   },
   "outputs": [],
   "source": [
    "if time.day > start_time.day:\n",
    "    yymm = time.strftime('%Y') + (time + timedelta(days = 1)).strftime('%m')\n",
    "else:\n",
    "    yymm = time.strftime('%Y') + time.strftime('%m')\n",
    "\n",
    "start_time = datetime.strptime(yymm + start, '%Y%m%d%H')\n",
    "end_time = datetime.strptime(yymm + end, '%Y%m%d%H')"
   ]
  },
  {
   "cell_type": "code",
   "execution_count": null,
   "id": "aeb67048",
   "metadata": {
    "ExecuteTime": {
     "end_time": "2021-08-25T13:26:14.671505Z",
     "start_time": "2021-08-25T13:26:14.657482Z"
    }
   },
   "outputs": [],
   "source": [
    "Time = pd.date_range(start = start_time, end = end_time, freq = 'H')\n",
    "TAF = pd.DataFrame([], index = Time)\n",
    "column = ['WDIR', 'WSPD', 'WG', 'VIS', 'WC', 'CLA_1LYR', 'BASE_1LYR', 'CLA_2LYR', 'BASE_2LYR', 'CLA_3LYR', 'BASE_3LYR']"
   ]
  },
  {
   "cell_type": "code",
   "execution_count": null,
   "id": "5d755084",
   "metadata": {
    "ExecuteTime": {
     "end_time": "2021-08-25T13:26:15.344109Z",
     "start_time": "2021-08-25T13:26:15.337118Z"
    }
   },
   "outputs": [],
   "source": [
    "chg_iter = re.finditer(pattern_chg, taf)                \n",
    "chg = list(chg_iter)"
   ]
  },
  {
   "cell_type": "code",
   "execution_count": null,
   "id": "829dc4f5",
   "metadata": {
    "ExecuteTime": {
     "end_time": "2021-08-25T13:26:18.717378Z",
     "start_time": "2021-08-25T13:26:18.685406Z"
    }
   },
   "outputs": [],
   "source": [
    "# 4. 첫번쨰 맨 앞 예보 꺼내고 삭제하기\n",
    "\n",
    "# BECMG, TEMPO 앞만 남기고 자르기\n",
    "if len(chg) != 0:\n",
    "    taff = taf[:chg[-len(chg)].end()-6]              \n",
    "\n",
    "# 시작시간, 종료시간\n",
    "start = taff[re.search(pattern_date, taff).start() : re.search(pattern_date, taff).start()+4]\n",
    "end = taff[re.search(pattern_date, taff).start()+5 : re.search(pattern_date, taff).start()+9]\n",
    "start_time = datetime.strptime(yymm + start ,'%Y%m%d%H')\n",
    "if (yymm+end)[-2:] == '24':\n",
    "    end_time = pd.to_datetime((yymm+end)[:-2], format = '%Y%m%d') + pd.Timedelta(days=1)\n",
    "    end_time = end_time.to_pydatetime()\n",
    "else:\n",
    "    end_time = datetime.strptime(yymm + end ,'%Y%m%d%H')\n",
    "\n",
    "\n",
    "# 바람\n",
    "wind_f = re.search(pattern_wind, taff)\n",
    "if wind_f != None:\n",
    "    if wind_f.group()[-1] == 'K':\n",
    "        wind = taff[re.search(pattern_wind, taff).start()+1 : re.search(pattern_wind, taff).start()+8]\n",
    "        WDIR = wind[0:3]\n",
    "        WSPD = wind[3:5]\n",
    "        WG = '0'\n",
    "    else:\n",
    "        wind = taff[re.search(pattern_wind, taff).start()+1 : re.search(pattern_wind, taff).start()+11]\n",
    "        WDIR = wind[0:3]\n",
    "        WSPD = wind[3:5]\n",
    "        WG = wind[6:8]\n",
    "else:\n",
    "    WDIR = '0'\n",
    "    WSPD = '0'\n",
    "    WG = '0'\n",
    "\n",
    "# 시정   \n",
    "if len(re.findall(pattern_cavok, taff)) == 0:\n",
    "    vis = re.search(pattern_vis, taff)\n",
    "    if vis != None:\n",
    "        VIS = taf[re.search(pattern_vis, taff).start()+1 : re.search(pattern_vis, taff).start()+5]\n",
    "    else:\n",
    "        VIS = None\n",
    "else:\n",
    "    vis = re.search(pattern_cavok, taff)\n",
    "    VIS = '9999'    \n",
    "\n",
    "# 현천\n",
    "wc = re.search(pattern_wc, taff)\n",
    "if wc != None:\n",
    "    if wc.group() == 'NSW':\n",
    "        WC = '0'\n",
    "    else:\n",
    "        WC = wc.group()\n",
    "else:\n",
    "    WC = '0'\n",
    "\n",
    "# 구름\n",
    "#taf_find = re.finditer(pattern_taf, taff)        \n",
    "#taf_data = taff[:list(taf_find)[-1].start()]\n",
    "cloud = re.finditer(pattern_cloud, taff) \n",
    "tcloud = list(cloud)\n",
    "if len(tcloud) == 3:\n",
    "    CLA_1LYR = taff[tcloud[0].start() : tcloud[0].start()+3]\n",
    "    BASE_1LYR = taff[tcloud[0].start()+3 : tcloud[0].start()+6]\n",
    "    CLA_2LYR = taff[tcloud[1].start() : tcloud[1].start()+3]\n",
    "    BASE_2LYR = taff[tcloud[1].start()+3 : tcloud[1].start()+6]\n",
    "    CLA_3LYR = taff[tcloud[2].start() : tcloud[2].start()+3]\n",
    "    BASE_3LYR = taff[tcloud[2].start()+3 : tcloud[2].start()+6]\n",
    "elif len(tcloud) == 2:\n",
    "    CLA_1LYR = taff[tcloud[0].start() : tcloud[0].start()+3]\n",
    "    BASE_1LYR = taff[tcloud[0].start()+3 : tcloud[0].start()+6]\n",
    "    CLA_2LYR = taff[tcloud[1].start() : tcloud[1].start()+3]\n",
    "    BASE_2LYR = taff[tcloud[1].start()+3 : tcloud[1].start()+6]\n",
    "    CLA_3LYR = '0'\n",
    "    BASE_3LYR = '400'\n",
    "elif len(tcloud) == 1:\n",
    "    CLA_1LYR = taff[tcloud[0].start() : tcloud[0].start()+3]\n",
    "    BASE_1LYR = taff[tcloud[0].start()+3 : tcloud[0].start()+6]\n",
    "    CLA_2LYR = '0'\n",
    "    BASE_2LYR = '400'\n",
    "    CLA_3LYR = '0'\n",
    "    BASE_3LYR = '400'\n",
    "elif len(tcloud) == 0:\n",
    "    CLA_1LYR = '0'\n",
    "    BASE_1LYR = '400'\n",
    "    CLA_2LYR = '0'\n",
    "    BASE_2LYR = '400'\n",
    "    CLA_3LYR = '0'\n",
    "    BASE_3LYR = '400'\n",
    "else: \n",
    "    CLA_1LYR = taff[tcloud[0].start() : tcloud[0].start()+3]\n",
    "    BASE_1LYR = taff[tcloud[0].start()+3 : tcloud[0].start()+6]\n",
    "    CLA_2LYR = taff[tcloud[1].start() : tcloud[1].start()+3]\n",
    "    BASE_2LYR = taff[tcloud[1].start()+3 : tcloud[1].start()+6]\n",
    "    CLA_3LYR = taff[tcloud[2].start() : tcloud[2].start()+3]\n",
    "    BASE_3LYR = taff[tcloud[2].start()+3 : tcloud[2].start()+6]\n",
    "\n",
    "weather = [WDIR, WSPD, WG, VIS, WC, CLA_1LYR, BASE_1LYR, CLA_2LYR, BASE_2LYR, CLA_3LYR, BASE_3LYR]\n",
    "\n",
    "taff = taf"
   ]
  },
  {
   "cell_type": "code",
   "execution_count": null,
   "id": "57d9e5de",
   "metadata": {
    "ExecuteTime": {
     "end_time": "2021-08-25T13:26:26.873991Z",
     "start_time": "2021-08-25T13:26:26.854971Z"
    }
   },
   "outputs": [],
   "source": [
    "# 5. TAF 안에 넣기\n",
    "\n",
    "temp_time= pd.date_range(start = start_time, end = end_time, freq = 'H')\n",
    "Weather = [weather]\n",
    "\n",
    "for i in range(len(temp_time)-1):\n",
    "    Weather.append(weather)\n",
    "\n",
    "Wx = pd.DataFrame(Weather, index = temp_time, columns = column)\n",
    "TAF = TAF.combine_first(Wx)\n",
    "\n",
    "# 5* issue date 붙이기\n",
    "#issue_date = pd.DataFrame({'issue_time': [str(start_time)]*len(TAF)}, index = TAF.index)\n",
    "#TAF = issue_date.join(TAF)"
   ]
  },
  {
   "cell_type": "code",
   "execution_count": null,
   "id": "50070872",
   "metadata": {
    "ExecuteTime": {
     "end_time": "2021-08-25T13:23:31.790672Z",
     "start_time": "2021-08-25T13:23:31.711633Z"
    }
   },
   "outputs": [],
   "source": [
    "# 6. BECMG, TEMPO 부분 뒤에서 부터 데이터 꺼내오기\n",
    "\n",
    "iter = len(chg)\n",
    "\n",
    "weathers = list(np.zeros(len(chg)))\n",
    "durs = list(np.zeros(len(chg)))\n",
    "\n",
    "for i in range(1, iter+1):\n",
    "\n",
    "    if len(chg) == 0:\n",
    "        temp = ''\n",
    "        continue  \n",
    "\n",
    "    # 마지막 BECMG, TEMPO 뒤만 남기고 자르기\n",
    "    temp = taff[chg[-1].end()-6:]\n",
    "\n",
    "    # 시작시간, 종료시간\n",
    "    temp_start = temp[re.search(pattern_date, temp).start() : re.search(pattern_date, temp).start()+4]   \n",
    "    temp_end = temp[re.search(pattern_date, temp).start()+5 : re.search(pattern_date, temp).start()+9]\n",
    "    temp_start_time = datetime.strptime(yymm + temp_start ,'%Y%m%d%H') + timedelta(hours = 9)     \n",
    "    if (yymm+temp_end)[-2:] == '24':\n",
    "        temp_end_time = pd.to_datetime((yymm+temp_end)[:-2], format = '%Y%m%d') + pd.Timedelta(days=1) + pd.Timedelta(hours=9)\n",
    "        temp_end_time = temp_end_time.to_pydatetime()\n",
    "    else:\n",
    "        temp_end_time = datetime.strptime(yymm + temp_end ,'%Y%m%d%H') + timedelta(hours = 9)         \n",
    "\n",
    "    if temp_end_time > temp_start_time:\n",
    "        temp_end_time = temp_end_time\n",
    "    else: \n",
    "        temp_end_time = temp_end_time + relativedelta(months=1)\n",
    "        temp_start_time = temp_start_time\n",
    "\n",
    "    if nextyear =='1231':\n",
    "        temp_start_time = temp_start_time + relativedelta(months=1)\n",
    "        temp_end_time = temp_end_time + relativedelta(months=1)\n",
    "    else:\n",
    "        temp_start_time = temp_start_time\n",
    "        temp_end_time = temp_end_time\n",
    "\n",
    "    # 바람    \n",
    "    temp_wind_f = re.search(pattern_wind, temp)\n",
    "    if temp_wind_f != None:\n",
    "        if temp_wind_f.group()[-1] == 'K':\n",
    "            temp_wind = temp[re.search(pattern_wind, temp).start()+1 : re.search(pattern_wind, temp).start()+8]\n",
    "            WDIR = temp_wind[0:3]\n",
    "            WSPD = temp_wind[3:5]\n",
    "            WG = '0'\n",
    "        else:\n",
    "            temp_wind = temp[re.search(pattern_wind, temp).start()+1 : re.search(pattern_wind, temp).start()+11]\n",
    "            WDIR = temp_wind[0:3]\n",
    "            WSPD = temp_wind[3:5]\n",
    "            WG = temp_wind[6:8]\n",
    "    else:\n",
    "        WDIR = None\n",
    "        WSPD = None\n",
    "        WG = None                \n",
    "    # 현천\n",
    "    temp_wc = re.search(pattern_wc, temp)\n",
    "    if temp_wc != None:\n",
    "        if temp_wc.group() == 'NSW':\n",
    "            WC = '0'\n",
    "        else:\n",
    "            WC = temp_wc.group()\n",
    "    else:\n",
    "        WC = '0'\n",
    "    # 구름    \n",
    "    temp_cloud = re.finditer(pattern_cloud, temp) \n",
    "    temp_tcloud = list(temp_cloud)\n",
    "    if len(temp_tcloud) == 3:\n",
    "        CLA_1LYR = temp[temp_tcloud[0].start() : temp_tcloud[0].start()+3]\n",
    "        BASE_1LYR = temp[temp_tcloud[0].start()+3 : temp_tcloud[0].start()+6]\n",
    "        CLA_2LYR = temp[temp_tcloud[1].start() : temp_tcloud[1].start()+3]\n",
    "        BASE_2LYR = temp[temp_tcloud[1].start()+3 : temp_tcloud[1].start()+6]\n",
    "        CLA_3LYR = temp[temp_tcloud[2].start() : temp_tcloud[2].start()+3]\n",
    "        BASE_3LYR = temp[temp_tcloud[2].start()+3 : temp_tcloud[2].start()+6]\n",
    "    elif len(temp_tcloud) == 2:\n",
    "        CLA_1LYR = temp[temp_tcloud[0].start() : temp_tcloud[0].start()+3]\n",
    "        BASE_1LYR = temp[temp_tcloud[0].start()+3 : temp_tcloud[0].start()+6]\n",
    "        CLA_2LYR = temp[temp_tcloud[1].start() : temp_tcloud[1].start()+3]\n",
    "        BASE_2LYR = temp[temp_tcloud[1].start()+3 : temp_tcloud[1].start()+6]\n",
    "        CLA_3LYR = '0'\n",
    "        BASE_3LYR = '400'\n",
    "    elif len(temp_tcloud) == 1:\n",
    "        CLA_1LYR = temp[temp_tcloud[0].start() : temp_tcloud[0].start()+3]\n",
    "        BASE_1LYR = temp[temp_tcloud[0].start()+3 : temp_tcloud[0].start()+6]\n",
    "        CLA_2LYR = '0'\n",
    "        BASE_2LYR = '400'\n",
    "        CLA_3LYR = '0'\n",
    "        BASE_3LYR = '400'\n",
    "    else: \n",
    "        CLA_1LYR = None\n",
    "        BASE_1LYR = None\n",
    "        CLA_2LYR = None\n",
    "        BASE_2LYR = None\n",
    "        CLA_3LYR = None\n",
    "        BASE_3LYR = None\n",
    "    # 시정  \n",
    "    if len(re.findall(pattern_cavok, temp)) == 0:\n",
    "        temp_vis = re.search(pattern_vis, temp)\n",
    "        if temp_vis != None:\n",
    "            VIS = temp[re.search(pattern_vis, temp).start()+1 : re.search(pattern_vis, temp).start()+5]\n",
    "        else:\n",
    "            VIS = None\n",
    "    else:\n",
    "        temp_vis = re.search(pattern_cavok, temp)\n",
    "        VIS = '9999'\n",
    "        CLA_1LYR = '0'\n",
    "        BASE_1LYR = '0'\n",
    "        CLA_2LYR = '0'\n",
    "        BASE_2LYR = '0'\n",
    "        CLA_3LYR = '0'\n",
    "        BASE_3LYR = '0'\n",
    "\n",
    "\n",
    "    weather = [WDIR, WSPD, WG, VIS, WC, CLA_1LYR, BASE_1LYR, CLA_2LYR, BASE_2LYR, CLA_3LYR, BASE_3LYR]\n",
    "    dur = [chg[-1].group(), temp_start_time, temp_end_time]\n",
    "\n",
    "    taff = taf[:chg[-1].end()-6]\n",
    "    chg_iter = re.finditer(pattern_chg, taff)                # BECMG, TEMPO 들어간거 찾기\n",
    "    chg = list(chg_iter)\n",
    "\n",
    "    weathers[-i] = weather\n",
    "    durs[-i] = dur"
   ]
  },
  {
   "cell_type": "code",
   "execution_count": null,
   "id": "c416a9d0",
   "metadata": {
    "ExecuteTime": {
     "end_time": "2021-08-25T13:23:31.790672Z",
     "start_time": "2021-08-25T13:23:31.711633Z"
    }
   },
   "outputs": [],
   "source": [
    "# 7. 각각의 weather를 맞는 시간대의 TAF에 넣기\n",
    "WW = TAF\n",
    "\n",
    "for j in range(len(durs)):  \n",
    "    if durs[j][0] == 'BECMG':\n",
    "        durs[j][2] = end_time\n",
    "        temp_time = pd.date_range(start = durs[j][1], end = durs[j][2], freq = 'H')\n",
    "        Weather = [weathers[j]]\n",
    "        for k in range(len(temp_time)-1):\n",
    "            Weather.append(weathers[j])\n",
    "        Wx = pd.DataFrame(Weather, index = temp_time, columns = column)\n",
    "        issue_date = pd.DataFrame({'issue_time': [str(start_time)]*len(Wx)}, index = Wx.index)    # issue date 넣기\n",
    "        Wx = issue_date.join(Wx)\n",
    "        TAF.loc[str(durs[j][1]) : str(durs[j][2])] = Wx\n",
    "        WW = TAF.fillna(method = 'ffill')\n",
    "    else:\n",
    "        temp_time= pd.date_range(start = durs[j][1], end = durs[j][2], freq = 'H')\n",
    "        Weather = [weathers[j]]\n",
    "        for k in range(len(temp_time)-1):\n",
    "            Weather.append(weathers[j])\n",
    "        Wx = pd.DataFrame(Weather, index = temp_time, columns = column)\n",
    "        issue_date = pd.DataFrame({'issue_time': [str(start_time)]*len(Wx)}, index = Wx.index)    # issue date 넣기\n",
    "        Wx = issue_date.join(Wx)\n",
    "        TAF.loc[str(durs[j][1]) : str(durs[j][2])] = Wx\n",
    "        WW = TAF.fillna(method = 'ffill')  "
   ]
  }
 ],
 "metadata": {
  "kernelspec": {
   "display_name": "Python 3",
   "language": "python",
   "name": "python3"
  },
  "language_info": {
   "codemirror_mode": {
    "name": "ipython",
    "version": 3
   },
   "file_extension": ".py",
   "mimetype": "text/x-python",
   "name": "python",
   "nbconvert_exporter": "python",
   "pygments_lexer": "ipython3",
   "version": "3.8.10"
  },
  "toc": {
   "base_numbering": 1,
   "nav_menu": {},
   "number_sections": true,
   "sideBar": true,
   "skip_h1_title": false,
   "title_cell": "Table of Contents",
   "title_sidebar": "Contents",
   "toc_cell": false,
   "toc_position": {},
   "toc_section_display": true,
   "toc_window_display": false
  },
  "varInspector": {
   "cols": {
    "lenName": 16,
    "lenType": 16,
    "lenVar": 40
   },
   "kernels_config": {
    "python": {
     "delete_cmd_postfix": "",
     "delete_cmd_prefix": "del ",
     "library": "var_list.py",
     "varRefreshCmd": "print(var_dic_list())"
    },
    "r": {
     "delete_cmd_postfix": ") ",
     "delete_cmd_prefix": "rm(",
     "library": "var_list.r",
     "varRefreshCmd": "cat(var_dic_list()) "
    }
   },
   "types_to_exclude": [
    "module",
    "function",
    "builtin_function_or_method",
    "instance",
    "_Feature"
   ],
   "window_display": false
  }
 },
 "nbformat": 4,
 "nbformat_minor": 5
}
